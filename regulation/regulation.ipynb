{
 "cells": [
  {
   "cell_type": "code",
   "execution_count": 2,
   "metadata": {},
   "outputs": [],
   "source": [
    "# @name regulation\n",
    "# @description notebook to build regulatory networks from various regulatory edges datasets with PMID from TRRUST and MSIGDB\n",
    "# @author Núria Queralt Rosinach\n",
    "# @date 01-17-2019"
   ]
  },
  {
   "cell_type": "code",
   "execution_count": 3,
   "metadata": {},
   "outputs": [],
   "source": [
    "# to do:\n",
    "#     * some edges have some resource without symbol. we need all symbols to retrieve concept\n",
    "# attributes from biothings (eg, tftarget::tred, NCBIGene:9503 (retired entrez and replaced\n",
    "# by another entrez, so it has symbol)). This is fixed here including 'retired' in the scopes cell 11\n",
    "# for nodes file. It must be fixed in tftargets notebook. This only can be fixed for 'retired'\n",
    "# Gene IDs, not for withdrawn Gene IDs.\n",
    "#     * add namespace to entrez geneLists in tred, encode, neph, msigdb"
   ]
  },
  {
   "cell_type": "code",
   "execution_count": 4,
   "metadata": {},
   "outputs": [],
   "source": [
    "import json\n",
    "from biothings_client import get_client\n",
    "import os, datetime\n",
    "today = datetime.date.today()\n",
    "\n",
    "if not os.path.exists('./tftargets/out'): os.makedirs('./tftargets/out')"
   ]
  },
  {
   "cell_type": "code",
   "execution_count": 5,
   "metadata": {},
   "outputs": [],
   "source": [
    "def unique_list(dictionary, key, value):\n",
    "    genes = dictionary.get(key,set())\n",
    "    for gene in value:\n",
    "        genes.add(gene)\n",
    "    dictionary[key] = genes\n",
    "    return dictionary"
   ]
  },
  {
   "cell_type": "markdown",
   "metadata": {},
   "source": [
    "### Load TF-gene edges"
   ]
  },
  {
   "cell_type": "code",
   "execution_count": 6,
   "metadata": {},
   "outputs": [],
   "source": [
    "tred = json.load(open('tftargets/data/tred.json'))\n",
    "encode = json.load(open('tftargets/data/encode.json'))\n",
    "neph2012 = json.load(open('tftargets/data/neph2012.json'))\n",
    "trrust = json.load(open('tftargets/data/trrust.json'))\n",
    "msigdb = json.load(open('msigdb/out/tf_genelist_entrez_msigdb.json'))"
   ]
  },
  {
   "cell_type": "markdown",
   "metadata": {},
   "source": [
    "#### Neph2012"
   ]
  },
  {
   "cell_type": "code",
   "execution_count": 7,
   "metadata": {},
   "outputs": [],
   "source": [
    "neph_all = dict()\n",
    "for cell in neph2012:\n",
    "    for tf, genes in neph2012[cell].items():\n",
    "        neph_all = unique_list(neph_all, tf, genes)\n",
    "neph = {key: list(neph_all[key]) for key in neph_all}"
   ]
  },
  {
   "cell_type": "markdown",
   "metadata": {},
   "source": [
    "### Normalize 2 entrez, HGNC Id\n",
    "\n",
    "* **symbols**: TF, trrust.genes \n",
    "* **entrez**: tred.genes, encode.genes, neph.genes, msigdb.genes"
   ]
  },
  {
   "cell_type": "markdown",
   "metadata": {},
   "source": [
    "#### Input ID list: symbols"
   ]
  },
  {
   "cell_type": "code",
   "execution_count": 8,
   "metadata": {},
   "outputs": [
    {
     "name": "stdout",
     "output_type": "stream",
     "text": [
      "symbols: 3071\n"
     ]
    }
   ],
   "source": [
    "# symbols \n",
    "trrust_genes = { gene for tf in trrust for gene in trrust.get(tf) }\n",
    "symbols = list(tred.keys() | encode.keys() | neph.keys() | trrust.keys() | msigdb.keys() | trrust_genes)\n",
    "print('symbols:', len(symbols))"
   ]
  },
  {
   "cell_type": "markdown",
   "metadata": {},
   "source": [
    "#### ID dictionaries: symbol2entrez, symbol2hgnc"
   ]
  },
  {
   "cell_type": "code",
   "execution_count": 9,
   "metadata": {},
   "outputs": [
    {
     "name": "stdout",
     "output_type": "stream",
     "text": [
      "querying 1-1000...done.\n",
      "querying 1001-2000...done.\n",
      "querying 2001-3000...done.\n",
      "querying 3001-3071...done.\n",
      "Finished.\n",
      "53 input query terms found no hit:\n",
      "\t['CDPCR1', 'CEBPGAMMA', 'PTF1BETA', 'FOX', 'NFKAPPAB65', 'MEIS1AHOXA9', 'INSAF', 'TFIII', 'MYOGNF1',\n",
      "Pass \"returnall=True\" to return complete lists of duplicate or missing query terms.\n"
     ]
    }
   ],
   "source": [
    "# query biothings for symbol2entrez and symbol2hgnc \n",
    "mg = get_client('gene')\n",
    "df = mg.querymany(symbols, scopes = 'symbol,alias', fields='entrezgene,HGNC', size=1, as_dataframe=True)"
   ]
  },
  {
   "cell_type": "code",
   "execution_count": 10,
   "metadata": {},
   "outputs": [
    {
     "data": {
      "text/html": [
       "<div>\n",
       "<style scoped>\n",
       "    .dataframe tbody tr th:only-of-type {\n",
       "        vertical-align: middle;\n",
       "    }\n",
       "\n",
       "    .dataframe tbody tr th {\n",
       "        vertical-align: top;\n",
       "    }\n",
       "\n",
       "    .dataframe thead th {\n",
       "        text-align: right;\n",
       "    }\n",
       "</style>\n",
       "<table border=\"1\" class=\"dataframe\">\n",
       "  <thead>\n",
       "    <tr style=\"text-align: right;\">\n",
       "      <th></th>\n",
       "      <th>HGNC</th>\n",
       "      <th>_id</th>\n",
       "      <th>_score</th>\n",
       "      <th>entrezgene</th>\n",
       "      <th>notfound</th>\n",
       "    </tr>\n",
       "    <tr>\n",
       "      <th>query</th>\n",
       "      <th></th>\n",
       "      <th></th>\n",
       "      <th></th>\n",
       "      <th></th>\n",
       "      <th></th>\n",
       "    </tr>\n",
       "  </thead>\n",
       "  <tbody>\n",
       "    <tr>\n",
       "      <th>PLOD1</th>\n",
       "      <td>9081</td>\n",
       "      <td>5351</td>\n",
       "      <td>86.69910</td>\n",
       "      <td>5351</td>\n",
       "      <td>NaN</td>\n",
       "    </tr>\n",
       "    <tr>\n",
       "      <th>CEBPG</th>\n",
       "      <td>1837</td>\n",
       "      <td>1054</td>\n",
       "      <td>85.44619</td>\n",
       "      <td>1054</td>\n",
       "      <td>NaN</td>\n",
       "    </tr>\n",
       "  </tbody>\n",
       "</table>\n",
       "</div>"
      ],
      "text/plain": [
       "       HGNC   _id    _score entrezgene notfound\n",
       "query                                          \n",
       "PLOD1  9081  5351  86.69910       5351      NaN\n",
       "CEBPG  1837  1054  85.44619       1054      NaN"
      ]
     },
     "execution_count": 10,
     "metadata": {},
     "output_type": "execute_result"
    }
   ],
   "source": [
    "df.head(2)"
   ]
  },
  {
   "cell_type": "code",
   "execution_count": 11,
   "metadata": {},
   "outputs": [],
   "source": [
    "# not found\n",
    "missing = df[['notfound']].copy()\n",
    "missing = missing.reset_index().rename(columns={'query': 'symbol'})\n",
    "missing = missing[missing['notfound'] == True][['symbol']] \n",
    "missing_symbol_l = [ symbol for symbol in missing['symbol'] ]\n",
    "\n",
    "# save not found\n",
    "with open('./tftargets/out/not_found_symbols.list','w') as f:\n",
    "    f.write('\\n'.join(missing_symbol_l))"
   ]
  },
  {
   "cell_type": "code",
   "execution_count": 12,
   "metadata": {},
   "outputs": [
    {
     "name": "stdout",
     "output_type": "stream",
     "text": [
      "symbol: <class 'str'>\n",
      "hgnc: <class 'str'>\n",
      "entrez: <class 'str'>\n"
     ]
    },
    {
     "data": {
      "text/html": [
       "<div>\n",
       "<style scoped>\n",
       "    .dataframe tbody tr th:only-of-type {\n",
       "        vertical-align: middle;\n",
       "    }\n",
       "\n",
       "    .dataframe tbody tr th {\n",
       "        vertical-align: top;\n",
       "    }\n",
       "\n",
       "    .dataframe thead th {\n",
       "        text-align: right;\n",
       "    }\n",
       "</style>\n",
       "<table border=\"1\" class=\"dataframe\">\n",
       "  <thead>\n",
       "    <tr style=\"text-align: right;\">\n",
       "      <th></th>\n",
       "      <th>symbol</th>\n",
       "      <th>hgnc</th>\n",
       "      <th>entrez</th>\n",
       "    </tr>\n",
       "  </thead>\n",
       "  <tbody>\n",
       "    <tr>\n",
       "      <th>0</th>\n",
       "      <td>PLOD1</td>\n",
       "      <td>9081</td>\n",
       "      <td>5351</td>\n",
       "    </tr>\n",
       "    <tr>\n",
       "      <th>1</th>\n",
       "      <td>CEBPG</td>\n",
       "      <td>1837</td>\n",
       "      <td>1054</td>\n",
       "    </tr>\n",
       "  </tbody>\n",
       "</table>\n",
       "</div>"
      ],
      "text/plain": [
       "  symbol  hgnc entrez\n",
       "0  PLOD1  9081   5351\n",
       "1  CEBPG  1837   1054"
      ]
     },
     "execution_count": 12,
     "metadata": {},
     "output_type": "execute_result"
    }
   ],
   "source": [
    "# prepare ids dataframe for dictionary construction\n",
    "ids =( df.reset_index()\n",
    "         .rename(columns={'query': 'symbol','HGNC': 'hgnc', 'entrezgene': 'entrez'}) \n",
    "         [['symbol','hgnc','entrez']]\n",
    "         .copy()\n",
    "     )\n",
    "\n",
    "print('symbol:', type(ids['symbol'][0]))\n",
    "print('hgnc:', type(ids['hgnc'][0]))\n",
    "print('entrez:', type(ids['entrez'][0]))\n",
    "ids.head(2)"
   ]
  },
  {
   "cell_type": "code",
   "execution_count": 13,
   "metadata": {},
   "outputs": [
    {
     "data": {
      "text/html": [
       "<div>\n",
       "<style scoped>\n",
       "    .dataframe tbody tr th:only-of-type {\n",
       "        vertical-align: middle;\n",
       "    }\n",
       "\n",
       "    .dataframe tbody tr th {\n",
       "        vertical-align: top;\n",
       "    }\n",
       "\n",
       "    .dataframe thead th {\n",
       "        text-align: right;\n",
       "    }\n",
       "</style>\n",
       "<table border=\"1\" class=\"dataframe\">\n",
       "  <thead>\n",
       "    <tr style=\"text-align: right;\">\n",
       "      <th></th>\n",
       "      <th>symbol</th>\n",
       "      <th>hgnc</th>\n",
       "      <th>entrez</th>\n",
       "    </tr>\n",
       "  </thead>\n",
       "  <tbody>\n",
       "    <tr>\n",
       "      <th>947</th>\n",
       "      <td>ALPHACP1</td>\n",
       "      <td>NaN</td>\n",
       "      <td>NaN</td>\n",
       "    </tr>\n",
       "  </tbody>\n",
       "</table>\n",
       "</div>"
      ],
      "text/plain": [
       "       symbol hgnc entrez\n",
       "947  ALPHACP1  NaN    NaN"
      ]
     },
     "execution_count": 13,
     "metadata": {},
     "output_type": "execute_result"
    }
   ],
   "source": [
    "# example of not found value\n",
    "ids[ids['symbol'] == 'ALPHACP1']"
   ]
  },
  {
   "cell_type": "code",
   "execution_count": 14,
   "metadata": {},
   "outputs": [
    {
     "data": {
      "text/html": [
       "<div>\n",
       "<style scoped>\n",
       "    .dataframe tbody tr th:only-of-type {\n",
       "        vertical-align: middle;\n",
       "    }\n",
       "\n",
       "    .dataframe tbody tr th {\n",
       "        vertical-align: top;\n",
       "    }\n",
       "\n",
       "    .dataframe thead th {\n",
       "        text-align: right;\n",
       "    }\n",
       "</style>\n",
       "<table border=\"1\" class=\"dataframe\">\n",
       "  <thead>\n",
       "    <tr style=\"text-align: right;\">\n",
       "      <th></th>\n",
       "      <th>symbol</th>\n",
       "      <th>hgnc</th>\n",
       "      <th>entrez</th>\n",
       "    </tr>\n",
       "  </thead>\n",
       "  <tbody>\n",
       "    <tr>\n",
       "      <th>1796</th>\n",
       "      <td>NPC1L1</td>\n",
       "      <td>7898</td>\n",
       "      <td>29881</td>\n",
       "    </tr>\n",
       "  </tbody>\n",
       "</table>\n",
       "</div>"
      ],
      "text/plain": [
       "      symbol  hgnc entrez\n",
       "1796  NPC1L1  7898  29881"
      ]
     },
     "execution_count": 14,
     "metadata": {},
     "output_type": "execute_result"
    }
   ],
   "source": [
    "# example of found value\n",
    "ids[ids['symbol'] == 'NPC1L1']"
   ]
  },
  {
   "cell_type": "code",
   "execution_count": 15,
   "metadata": {},
   "outputs": [
    {
     "name": "stdout",
     "output_type": "stream",
     "text": [
      "x: <class 'str'>\n",
      "x: 2917\n"
     ]
    }
   ],
   "source": [
    "x = ids.at[491,'hgnc']\n",
    "print('x: {}'.format(type(x)))\n",
    "print('x: {}'.format(x))\n",
    "if isinstance(x,float): \n",
    "    print('x: {}'.format(x))"
   ]
  },
  {
   "cell_type": "code",
   "execution_count": 16,
   "metadata": {},
   "outputs": [
    {
     "name": "stdout",
     "output_type": "stream",
     "text": [
      "ALPHACP1\n",
      "ALPHACP1\n",
      "NCBIGene:29881\n",
      "HGNC:7898\n"
     ]
    }
   ],
   "source": [
    "# build dictionaries\n",
    "# value types: \n",
    "# symbol=> str, no nulls\n",
    "# hgnc=> str, null=> float(nan)\n",
    "# entrez=> str, null=> float(0)\n",
    "# dictionaries for ID mapping (nulls allowed). No namespace added.\n",
    "#symbol2entrez_map = dict(zip(ids.symbol,ids.entrez))\n",
    "#symbol2hgnc_map = dict(zip(ids.symbol,ids.hgnc))\n",
    "\n",
    "# dictionaries for normalization to an ID (not null allowed). the final ID must be from one of the several schemes.\n",
    "# namespace added.\n",
    "symbol2entrez_dict = dict(zip(ids.symbol,ids.entrez))\n",
    "symbol2hgnc_dict = dict(zip(ids.symbol,ids.hgnc))\n",
    "\n",
    "# associate symbol for those genes without entrez: symbol => entrez > symbol\n",
    "for symbol in symbol2entrez_dict:\n",
    "    if isinstance(symbol2entrez_dict[symbol],float):\n",
    "        symbol2entrez_dict[symbol] = symbol\n",
    "    else: \n",
    "        entrez = symbol2entrez_dict[symbol]\n",
    "        symbol2entrez_dict[symbol] = \"NCBIGene:\"+entrez\n",
    "\n",
    "# associate entrez else symbol for those genes without hgnc: symbol =>  hgnc > entrez > symbol\n",
    "for symbol in symbol2hgnc_dict:\n",
    "    if isinstance(symbol2hgnc_dict.get(symbol),float):\n",
    "        symbol2hgnc_dict[symbol] = symbol2entrez_dict[symbol]\n",
    "    else:\n",
    "        hgnc = symbol2hgnc_dict[symbol]\n",
    "        symbol2hgnc_dict[symbol] = \"HGNC:\"+hgnc\n",
    "        \n",
    "# checks\n",
    "# nor hgnc neither entrez associated\n",
    "print(symbol2entrez_dict['ALPHACP1'])\n",
    "print(symbol2hgnc_dict['ALPHACP1'])\n",
    "\n",
    "# hgnc and entrez associated\n",
    "print(symbol2entrez_dict['NPC1L1'])\n",
    "print(symbol2hgnc_dict['NPC1L1'])"
   ]
  },
  {
   "cell_type": "markdown",
   "metadata": {},
   "source": [
    "#### Normalize ID to entrez, else: symbol"
   ]
  },
  {
   "cell_type": "code",
   "execution_count": 17,
   "metadata": {},
   "outputs": [],
   "source": [
    "# Map symbols to entrez\n",
    "tred_entrez = { symbol2entrez_dict[symbol]: tred[symbol] for symbol in tred }\n",
    "encode_entrez = { symbol2entrez_dict[symbol]: encode[symbol] for symbol in encode }\n",
    "neph_entrez = { symbol2entrez_dict[symbol]: neph[symbol] for symbol in neph }\n",
    "msigdb_entrez = { symbol2entrez_dict[symbol]: msigdb[symbol] for symbol in msigdb }\n",
    "trrust_entrez = {}\n",
    "for symbol in trrust: \n",
    "    genes_entrez = list()\n",
    "    for gene in trrust.get(symbol):\n",
    "        genes_entrez.append(symbol2entrez_dict[gene])\n",
    "    trrust_entrez[symbol2entrez_dict[symbol]] =  genes_entrez\n",
    "    \n",
    "# save associations normalized to entrez\n",
    "with open('./tftargets/out/tred_entrez.json', 'w') as f:\n",
    "    json.dump(tred_entrez, f, sort_keys=True, indent=2)\n",
    "\n",
    "with open('./tftargets/out/encode_entrez.json', 'w') as f:\n",
    "    json.dump(encode_entrez, f, sort_keys=True, indent=2)\n",
    "    \n",
    "with open('./tftargets/out/neph_entrez.json', 'w') as f:\n",
    "    json.dump(neph_entrez, f, sort_keys=True, indent=2)\n",
    "    \n",
    "with open('./tftargets/out/msigdb_entrez.json', 'w') as f:\n",
    "    json.dump(msigdb_entrez, f, sort_keys=True, indent=2)\n",
    "    \n",
    "with open('./tftargets/out/trrust_entrez.json', 'w') as f:\n",
    "    json.dump(trrust_entrez, f, sort_keys=True, indent=2)"
   ]
  },
  {
   "cell_type": "markdown",
   "metadata": {},
   "source": [
    "**Check**:\n",
    "* neph and neph_entrez len are not equivalent, why? same with msigdb"
   ]
  },
  {
   "cell_type": "code",
   "execution_count": 18,
   "metadata": {},
   "outputs": [
    {
     "data": {
      "text/plain": [
       "536"
      ]
     },
     "execution_count": 18,
     "metadata": {},
     "output_type": "execute_result"
    }
   ],
   "source": [
    "# check map symbols to entrez\n",
    "len(neph)"
   ]
  },
  {
   "cell_type": "code",
   "execution_count": 19,
   "metadata": {},
   "outputs": [
    {
     "data": {
      "text/plain": [
       "535"
      ]
     },
     "execution_count": 19,
     "metadata": {},
     "output_type": "execute_result"
    }
   ],
   "source": [
    "len(neph_entrez)"
   ]
  },
  {
   "cell_type": "code",
   "execution_count": 20,
   "metadata": {},
   "outputs": [
    {
     "data": {
      "text/plain": [
       "282"
      ]
     },
     "execution_count": 20,
     "metadata": {},
     "output_type": "execute_result"
    }
   ],
   "source": [
    "len(msigdb)"
   ]
  },
  {
   "cell_type": "code",
   "execution_count": 21,
   "metadata": {},
   "outputs": [
    {
     "data": {
      "text/plain": [
       "277"
      ]
     },
     "execution_count": 21,
     "metadata": {},
     "output_type": "execute_result"
    }
   ],
   "source": [
    "len(msigdb_entrez)"
   ]
  },
  {
   "cell_type": "code",
   "execution_count": 22,
   "metadata": {
    "scrolled": true
   },
   "outputs": [
    {
     "name": "stdout",
     "output_type": "stream",
     "text": [
      "{'INSAF'}\n",
      "{'HAND1E47', 'ALPHACP1', 'CACCCBINDINGFACTOR', 'TAXCREB', 'AP1FJ', 'COMP1', 'MEIS1BHOXA9', 'NKX22', 'E2F1DP1', 'TCF11MAFG', 'RORA1', 'TFIII', 'ISRE', 'PTF1BETA', 'CREBP1', 'CDPCR3', 'MYCMAX', 'AMEF2', 'GNCF', 'NFMUE1', 'CREL', 'TCF1P', 'MMEF2', 'NFKAPPAB65', 'CETS1P54', 'LMO2COM', 'CREBP1CJUN', 'MEIS1AHOXA9', 'FOX', 'CDPCR3HD', 'E2F4DP2', 'CEBPDELTA', 'T3R', 'CACBINDINGPROTEIN', 'TAL1ALPHAE47', 'HMEF2', 'COREBINDINGFACTOR', 'NKX25', 'IK3', 'MYOGNF1', 'CDPCR1', 'HP1SITEFACTOR', 'NFY', 'TAL1BETAE47', 'CEBPGAMMA', 'E2F4DP1', 'E2F1DP2', 'TAL1BETAITF2', 'CART1', 'E2F1DP1RB', 'NKX62', 'AHRARNT'}\n",
      "52\n"
     ]
    }
   ],
   "source": [
    "# what are the missing keys?\n",
    "# check that 53 symbols without entrez,hgnc are in the dictionaries: \n",
    "print(neph.keys() & neph_entrez.keys())\n",
    "print(msigdb.keys() & msigdb_entrez.keys())\n",
    "print(len(msigdb.keys() & msigdb_entrez.keys()))\n",
    "# yes, 52 + 'INSAF' \n",
    "\n",
    "# the missing values can be 2 symbols that share the same entrez because they are alias for the same gene"
   ]
  },
  {
   "cell_type": "code",
   "execution_count": 23,
   "metadata": {},
   "outputs": [
    {
     "data": {
      "text/plain": [
       "133"
      ]
     },
     "execution_count": 23,
     "metadata": {},
     "output_type": "execute_result"
    }
   ],
   "source": [
    "# tred and encode look fine\n",
    "len(tred) "
   ]
  },
  {
   "cell_type": "code",
   "execution_count": 25,
   "metadata": {},
   "outputs": [
    {
     "data": {
      "text/plain": [
       "133"
      ]
     },
     "execution_count": 25,
     "metadata": {},
     "output_type": "execute_result"
    }
   ],
   "source": [
    "len(tred_entrez)"
   ]
  },
  {
   "cell_type": "code",
   "execution_count": 27,
   "metadata": {},
   "outputs": [
    {
     "data": {
      "text/plain": [
       "157"
      ]
     },
     "execution_count": 27,
     "metadata": {},
     "output_type": "execute_result"
    }
   ],
   "source": [
    "len(encode)"
   ]
  },
  {
   "cell_type": "code",
   "execution_count": 26,
   "metadata": {},
   "outputs": [
    {
     "data": {
      "text/plain": [
       "157"
      ]
     },
     "execution_count": 26,
     "metadata": {},
     "output_type": "execute_result"
    }
   ],
   "source": [
    "len(encode_entrez)"
   ]
  },
  {
   "cell_type": "markdown",
   "metadata": {},
   "source": [
    "#### Input ID list: entrez"
   ]
  },
  {
   "cell_type": "code",
   "execution_count": 31,
   "metadata": {},
   "outputs": [
    {
     "name": "stdout",
     "output_type": "stream",
     "text": [
      "entrez: 16632\n"
     ]
    }
   ],
   "source": [
    "# entrez\n",
    "tred_genes = { gene for tf in tred for gene in tred.get(tf) }\n",
    "encode_genes = { gene for tf in encode for gene in encode.get(tf) }\n",
    "neph_genes = { gene for tf in neph for gene in neph.get(tf) }\n",
    "msigdb_genes = { gene for tf in msigdb for gene in msigdb.get(tf) }\n",
    "entrez = list(tred_genes | encode_genes | neph_genes | msigdb_genes)\n",
    "print('entrez:', len(entrez))"
   ]
  },
  {
   "cell_type": "markdown",
   "metadata": {},
   "source": [
    "#### ID dictionaries: entrez2hgnc, entrez2symbol"
   ]
  },
  {
   "cell_type": "code",
   "execution_count": 32,
   "metadata": {},
   "outputs": [
    {
     "name": "stdout",
     "output_type": "stream",
     "text": [
      "querying 1-1000...done.\n",
      "querying 1001-2000...done.\n",
      "querying 2001-3000...done.\n",
      "querying 3001-4000...done.\n",
      "querying 4001-5000...done.\n",
      "querying 5001-6000...done.\n",
      "querying 6001-7000...done.\n",
      "querying 7001-8000...done.\n",
      "querying 8001-9000...done.\n",
      "querying 9001-10000...done.\n",
      "querying 10001-11000...done.\n",
      "querying 11001-12000...done.\n",
      "querying 12001-13000...done.\n",
      "querying 13001-14000...done.\n",
      "querying 14001-15000...done.\n",
      "querying 15001-16000...done.\n",
      "querying 16001-16632...done.\n",
      "Finished.\n",
      "137 input query terms found no hit:\n",
      "\t['400870', '338850', '221943', '101243544', '284072', '4276', '51036', '326332', '284211', '143902',\n",
      "Pass \"returnall=True\" to return complete lists of duplicate or missing query terms.\n"
     ]
    },
    {
     "data": {
      "text/html": [
       "<div>\n",
       "<style scoped>\n",
       "    .dataframe tbody tr th:only-of-type {\n",
       "        vertical-align: middle;\n",
       "    }\n",
       "\n",
       "    .dataframe tbody tr th {\n",
       "        vertical-align: top;\n",
       "    }\n",
       "\n",
       "    .dataframe thead th {\n",
       "        text-align: right;\n",
       "    }\n",
       "</style>\n",
       "<table border=\"1\" class=\"dataframe\">\n",
       "  <thead>\n",
       "    <tr style=\"text-align: right;\">\n",
       "      <th></th>\n",
       "      <th>HGNC</th>\n",
       "      <th>_id</th>\n",
       "      <th>_score</th>\n",
       "      <th>notfound</th>\n",
       "      <th>symbol</th>\n",
       "    </tr>\n",
       "    <tr>\n",
       "      <th>query</th>\n",
       "      <th></th>\n",
       "      <th></th>\n",
       "      <th></th>\n",
       "      <th></th>\n",
       "      <th></th>\n",
       "    </tr>\n",
       "  </thead>\n",
       "  <tbody>\n",
       "    <tr>\n",
       "      <th>6432</th>\n",
       "      <td>10789</td>\n",
       "      <td>6432</td>\n",
       "      <td>21.382607</td>\n",
       "      <td>NaN</td>\n",
       "      <td>SRSF7</td>\n",
       "    </tr>\n",
       "    <tr>\n",
       "      <th>57650</th>\n",
       "      <td>29302</td>\n",
       "      <td>57650</td>\n",
       "      <td>20.849570</td>\n",
       "      <td>NaN</td>\n",
       "      <td>CIP2A</td>\n",
       "    </tr>\n",
       "  </tbody>\n",
       "</table>\n",
       "</div>"
      ],
      "text/plain": [
       "        HGNC    _id     _score notfound symbol\n",
       "query                                         \n",
       "6432   10789   6432  21.382607      NaN  SRSF7\n",
       "57650  29302  57650  20.849570      NaN  CIP2A"
      ]
     },
     "execution_count": 32,
     "metadata": {},
     "output_type": "execute_result"
    }
   ],
   "source": [
    "# symbol2entrez dict\n",
    "mg = get_client('gene')\n",
    "df = mg.querymany(entrez, scopes = 'entrezgene', fields='HGNC,symbol', size=1, as_dataframe=True)\n",
    "df.head(2)"
   ]
  },
  {
   "cell_type": "code",
   "execution_count": 33,
   "metadata": {},
   "outputs": [],
   "source": [
    "# not found\n",
    "missing = df[['notfound']].copy()\n",
    "missing = missing.reset_index().rename(columns={'query': 'entrez'})\n",
    "missing = missing[missing['notfound'] == True][['entrez']] \n",
    "missing_entrez_l = [ entrez for entrez in missing['entrez'] ]\n",
    "\n",
    "# save not found\n",
    "with open('./tftargets/out/not_found_entrez.list','w') as f:\n",
    "    f.write('\\n'.join(missing_entrez_l))"
   ]
  },
  {
   "cell_type": "code",
   "execution_count": 34,
   "metadata": {},
   "outputs": [
    {
     "name": "stdout",
     "output_type": "stream",
     "text": [
      "symbol: <class 'str'>\n",
      "hgnc: <class 'str'>\n",
      "entrez: <class 'str'>\n"
     ]
    },
    {
     "data": {
      "text/html": [
       "<div>\n",
       "<style scoped>\n",
       "    .dataframe tbody tr th:only-of-type {\n",
       "        vertical-align: middle;\n",
       "    }\n",
       "\n",
       "    .dataframe tbody tr th {\n",
       "        vertical-align: top;\n",
       "    }\n",
       "\n",
       "    .dataframe thead th {\n",
       "        text-align: right;\n",
       "    }\n",
       "</style>\n",
       "<table border=\"1\" class=\"dataframe\">\n",
       "  <thead>\n",
       "    <tr style=\"text-align: right;\">\n",
       "      <th></th>\n",
       "      <th>entrez</th>\n",
       "      <th>hgnc</th>\n",
       "      <th>symbol</th>\n",
       "      <th>entrez_id</th>\n",
       "      <th>hgnc_id</th>\n",
       "    </tr>\n",
       "  </thead>\n",
       "  <tbody>\n",
       "    <tr>\n",
       "      <th>0</th>\n",
       "      <td>6432</td>\n",
       "      <td>10789</td>\n",
       "      <td>SRSF7</td>\n",
       "      <td>NCBIGene:6432</td>\n",
       "      <td>HGNC:10789</td>\n",
       "    </tr>\n",
       "    <tr>\n",
       "      <th>1</th>\n",
       "      <td>57650</td>\n",
       "      <td>29302</td>\n",
       "      <td>CIP2A</td>\n",
       "      <td>NCBIGene:57650</td>\n",
       "      <td>HGNC:29302</td>\n",
       "    </tr>\n",
       "  </tbody>\n",
       "</table>\n",
       "</div>"
      ],
      "text/plain": [
       "  entrez   hgnc symbol       entrez_id     hgnc_id\n",
       "0   6432  10789  SRSF7   NCBIGene:6432  HGNC:10789\n",
       "1  57650  29302  CIP2A  NCBIGene:57650  HGNC:29302"
      ]
     },
     "execution_count": 34,
     "metadata": {},
     "output_type": "execute_result"
    }
   ],
   "source": [
    "# prepare ids dataframe for dictionary construction\n",
    "ids =( df.reset_index()\n",
    "         .rename(columns={'query': 'entrez','HGNC': 'hgnc'}) \n",
    "         [['entrez','hgnc','symbol']]\n",
    "         .copy()\n",
    "     )\n",
    "print('symbol:', type(ids['symbol'][0]))\n",
    "print('hgnc:', type(ids['hgnc'][0]))\n",
    "print('entrez:', type(ids['entrez'][0]))\n",
    "ids['entrez_id'] = ids.entrez.apply(lambda x: \"NCBIGene:\"+x if type(x) == str else x)\n",
    "ids['hgnc_id'] = ids.hgnc.apply(lambda x: \"HGNC:\"+x if type(x) == str else x)\n",
    "ids.head(2)"
   ]
  },
  {
   "cell_type": "code",
   "execution_count": 35,
   "metadata": {},
   "outputs": [],
   "source": [
    "# build dictionaries\n",
    "# value types:\n",
    "# entrez=> str, no nulls\n",
    "# symbol=> str, null=> float(nan)\n",
    "# hgnc=> str, null=> float(nan)\n",
    "# dictionaries for normalization to an ID (not null allowed). the final ID must be from one of the several schemes.\n",
    "# namespace added.\n",
    "entrez2hgnc_dict = dict(zip(ids.entrez_id,ids.hgnc_id))\n",
    "entrez2symbol_dict = dict(zip(ids.entrez_id,ids.symbol))\n",
    "\n",
    "# associate entrez for those genes without hgnc: entrez=> hgnc > entrez\n",
    "for entrez in entrez2hgnc_dict:\n",
    "    if isinstance(entrez2hgnc_dict.get(entrez),float): \n",
    "        entrez2hgnc_dict[entrez] = entrez\n",
    "        \n",
    "# associate symbol, else 'NA' because it's a dict to annotate: entrez=> symbol or 'NA'\n",
    "for entrez in entrez2symbol_dict:\n",
    "    if isinstance(entrez2symbol_dict.get(entrez),float): \n",
    "        entrez2symbol_dict[entrez] = 'NA'"
   ]
  },
  {
   "cell_type": "markdown",
   "metadata": {},
   "source": [
    "#### Normalize ID to hgnc, else: entrez/symbol\n"
   ]
  },
  {
   "cell_type": "code",
   "execution_count": 36,
   "metadata": {},
   "outputs": [],
   "source": [
    "#### Map symbols,entrez to hgnc\n",
    "tred_hgnc = { symbol2hgnc_dict[symbol]: tred[symbol] for symbol in tred }\n",
    "encode_hgnc = { symbol2hgnc_dict[symbol]: encode[symbol] for symbol in encode }\n",
    "neph_hgnc = { symbol2hgnc_dict[symbol]: neph[symbol] for symbol in neph }\n",
    "msigdb_hgnc = { symbol2hgnc_dict[symbol]: msigdb[symbol] for symbol in msigdb }\n",
    "\n",
    "trrust_hgnc = {}\n",
    "for symbol in trrust: \n",
    "    genes_hgnc = list()\n",
    "    for gene in trrust.get(symbol):\n",
    "        genes_hgnc.append(symbol2hgnc_dict[gene])\n",
    "    trrust_hgnc[symbol2hgnc_dict[symbol]] =  genes_hgnc\n",
    "\n",
    "for tf in tred_hgnc: \n",
    "    genes_hgnc = list()\n",
    "    for gene in tred_hgnc.get(tf):\n",
    "        genes_hgnc.append(entrez2hgnc_dict[\"NCBIGene:\"+str(gene)])\n",
    "    tred_hgnc[tf] =  genes_hgnc\n",
    "for tf in encode_hgnc: \n",
    "    genes_hgnc = list()\n",
    "    for gene in encode_hgnc.get(tf):\n",
    "        genes_hgnc.append(entrez2hgnc_dict[\"NCBIGene:\"+str(gene)])\n",
    "    encode_hgnc[tf] =  genes_hgnc\n",
    "for tf in neph_hgnc: \n",
    "    genes_hgnc = list()\n",
    "    for gene in neph_hgnc.get(tf):\n",
    "        genes_hgnc.append(entrez2hgnc_dict[\"NCBIGene:\"+str(gene)])\n",
    "    neph_hgnc[tf] =  genes_hgnc\n",
    "for tf in msigdb_hgnc: \n",
    "    genes_hgnc = list()\n",
    "    for gene in msigdb_hgnc.get(tf):\n",
    "        genes_hgnc.append(entrez2hgnc_dict[\"NCBIGene:\"+str(gene)])\n",
    "    msigdb_hgnc[tf] =  genes_hgnc\n",
    "    \n",
    "# save associations normalized to hgnc\n",
    "with open('./tftargets/out/tred_hgnc.json', 'w') as f:\n",
    "    json.dump(tred_hgnc, f, sort_keys=True, indent=2)\n",
    "\n",
    "with open('./tftargets/out/encode_hgnc.json', 'w') as f:\n",
    "    json.dump(encode_hgnc, f, sort_keys=True, indent=2)\n",
    "    \n",
    "with open('./tftargets/out/neph_hgnc.json', 'w') as f:\n",
    "    json.dump(neph_hgnc, f, sort_keys=True, indent=2)\n",
    "    \n",
    "with open('./tftargets/out/msigdb_hgnc.json', 'w') as f:\n",
    "    json.dump(msigdb_hgnc, f, sort_keys=True, indent=2)\n",
    "    \n",
    "with open('./tftargets/out/trrust_hgnc.json', 'w') as f:\n",
    "    json.dump(trrust_hgnc, f, sort_keys=True, indent=2)"
   ]
  },
  {
   "cell_type": "markdown",
   "metadata": {},
   "source": [
    "### Save edges\n",
    "\n",
    "Edge format:\n",
    "\n",
    "| source | dataset | tf_source_id | gene_source_id | source_uri | s_entrez_id | s_hgnc_id | s_symbol | p_id | p_label | o_entrez_id | o_hgnc_id | o_symbol | reference_id | reference_date | \n",
    "|---|---|---|---|---|---|---|---|---|---|---|---|---|---|---|\n",
    "\n",
    "1. `source`: str tftargets\n",
    "2. `dataset`: str tred \n",
    "3. `tf_source_id`: str transcriptor factor tftargets id\n",
    "4. `gene_source_id`: str gene tftargets id \n",
    "5. `source_uri`: str 'https://github.com/slowkow/tftargets' \n",
    "6. `s_entrez_id`: str subject entrez \n",
    "7. `s_hgnc_id`: str subject hgnc id \n",
    "8. `s_symbol`: str subject label \n",
    "9. `p_id`:  str property id 'RO:0002434'\n",
    "10. `p_label`: str property label 'interacts with'\n",
    "11. `o_entrez_id`: str object entrez \n",
    "12. `o_hgnc_id`: str object hgnc id \n",
    "13. `o_symbol`: str object label  \n",
    "14. `reference_id`: str pmid \n",
    "15. `reference_date`: str yyyy-mm-dd "
   ]
  },
  {
   "cell_type": "code",
   "execution_count": 37,
   "metadata": {},
   "outputs": [],
   "source": [
    "# add ref_uri to trrust and msigdb statements\n",
    "# trrust: dict {'tf:gene': 'PMID:'}\n",
    "import gzip\n",
    "\n",
    "def add_elem_dictionary(dictionary, key, elem, repet = False):\n",
    "    if key in dictionary:\n",
    "        aux = dictionary.get(key)\n",
    "        if repet:\n",
    "            aux.append(elem)\n",
    "            dictionary[key] = aux\n",
    "        else:   \n",
    "            if not elem in aux:\n",
    "                aux.append(elem)\n",
    "                dictionary[key] = aux\n",
    "    else:\n",
    "        dictionary[key] = [elem]\n",
    "    return dictionary\n",
    "\n",
    "st2ref = {}\n",
    "for line in gzip.open('./tftargets/data-raw/TRRUST/trrust_rawdata.txt.gz', 'rt').readlines():\n",
    "    tf,gene,mor,ref_list = line.strip().split('\\t')\n",
    "    st = tf+':'+gene\n",
    "    ref_list = ref_list.split(';') if ';' in ref_list else [ref_list]\n",
    "    for ref in ref_list:\n",
    "        add_elem_dictionary(st2ref, st, ref)\n",
    "\n",
    "for st in st2ref:\n",
    "    #st2ref[st] = 'https://www.ncbi.nlm.nih.gov/pubmed/'+','.join(st2ref[st])\n",
    "    st2ref[st] = 'PMID:'+';'.join(st2ref[st])"
   ]
  },
  {
   "cell_type": "code",
   "execution_count": 38,
   "metadata": {},
   "outputs": [],
   "source": [
    "# tftargets: tred, encode, neph, trrust\n",
    "with open('./tftargets/out/tftargets_edges.csv','w') as f:\n",
    "    f.write(\"source,dataset,tf_source_id,gene_source_id,source_uri,s_entrez_id,s_hgnc_id,s_symbol,p_id,p_label,o_entrez_id,o_hgnc_id,o_symbol,reference_id,reference_date\\n\")\n",
    "    source = \"tftargets\"\n",
    "    source_uri = \"https://github.com/slowkow/tftargets\"\n",
    "    p_id = \"RO:0002434\"\n",
    "    p_label = \"interacts with\"\n",
    "    # tred\n",
    "    dataset = \"tred\"\n",
    "    reference_id = \"PMID:17202159\"\n",
    "    reference_date = \"2007-01-01\"\n",
    "    for tf in tred:\n",
    "        for gene in tred[tf]:\n",
    "            f.write(\n",
    "                \"{},{},{},{},{},{},{},{},{},{},{},{},{},{},{}\\n\"\n",
    "                .format(\n",
    "                    source,\n",
    "                    dataset,\n",
    "                    tf,\n",
    "                    gene,\n",
    "                    source_uri,\n",
    "                    symbol2entrez_dict[tf],\n",
    "                    symbol2hgnc_dict[tf],\n",
    "                    tf,\n",
    "                    p_id,\n",
    "                    p_label,\n",
    "                    \"NCBIGene:\"+str(gene),\n",
    "                    entrez2hgnc_dict[\"NCBIGene:\"+str(gene)],\n",
    "                    entrez2symbol_dict[\"NCBIGene:\"+str(gene)],\n",
    "                    reference_id,\n",
    "                    reference_date\n",
    "            )\n",
    "        )\n",
    "    # encode\n",
    "    dataset = \"encode_ENCFF001UUQ\"\n",
    "    reference_id = \"ENCODE:ENCFF001UUQ\"\n",
    "    reference_date = \"2012-08-28\"\n",
    "    for tf in encode:\n",
    "        for gene in encode[tf]:\n",
    "            f.write(\n",
    "                \"{},{},{},{},{},{},{},{},{},{},{},{},{},{},{}\\n\"\n",
    "                .format(\n",
    "                    source,\n",
    "                    dataset,\n",
    "                    tf,\n",
    "                    gene,\n",
    "                    source_uri,\n",
    "                    symbol2entrez_dict[tf],\n",
    "                    symbol2hgnc_dict[tf],\n",
    "                    tf,\n",
    "                    p_id,\n",
    "                    p_label,\n",
    "                    \"NCBIGene:\"+str(gene),\n",
    "                    entrez2hgnc_dict[\"NCBIGene:\"+str(gene)],\n",
    "                    entrez2symbol_dict[\"NCBIGene:\"+str(gene)],\n",
    "                    reference_id,\n",
    "                    reference_date\n",
    "            )\n",
    "        )\n",
    "    # neph\n",
    "    dataset = \"neph2012\"\n",
    "    reference_id = \"PMID:22959076\"\n",
    "    reference_date = \"2012-09-14\"\n",
    "    for tf in neph:\n",
    "        for gene in neph[tf]:\n",
    "            f.write(\n",
    "                \"{},{},{},{},{},{},{},{},{},{},{},{},{},{},{}\\n\"\n",
    "                .format(\n",
    "                    source,\n",
    "                    dataset,\n",
    "                    tf,\n",
    "                    gene,\n",
    "                    source_uri,\n",
    "                    symbol2entrez_dict[tf],\n",
    "                    symbol2hgnc_dict[tf],\n",
    "                    tf,\n",
    "                    p_id,\n",
    "                    p_label,\n",
    "                    \"NCBIGene:\"+str(gene),\n",
    "                    entrez2hgnc_dict[\"NCBIGene:\"+str(gene)],\n",
    "                    entrez2symbol_dict[\"NCBIGene:\"+str(gene)],\n",
    "                    reference_id,\n",
    "                    reference_date\n",
    "            )\n",
    "        )\n",
    "    # trrust\n",
    "    dataset = \"trrust\"\n",
    "    #reference_id = \"PMID:26066708\"\n",
    "    reference_date = \"NA\" #\"2015-06-12\"\n",
    "    for tf in trrust:\n",
    "        for gene in trrust[tf]:\n",
    "            reference_id = st2ref[tf+':'+gene]\n",
    "            f.write(\n",
    "                \"{},{},{},{},{},{},{},{},{},{},{},{},{},{},{}\\n\"\n",
    "                .format(\n",
    "                    source,\n",
    "                    dataset,\n",
    "                    tf,\n",
    "                    gene,\n",
    "                    source_uri,\n",
    "                    symbol2entrez_dict[tf],\n",
    "                    symbol2hgnc_dict[tf],\n",
    "                    tf,\n",
    "                    p_id,\n",
    "                    p_label,\n",
    "                    symbol2entrez_dict[gene],\n",
    "                    symbol2hgnc_dict[gene],\n",
    "                    gene,\n",
    "                    reference_id,\n",
    "                    reference_date\n",
    "            )\n",
    "        )        "
   ]
  },
  {
   "cell_type": "code",
   "execution_count": 39,
   "metadata": {},
   "outputs": [],
   "source": [
    "# msigdb: dict {'tf:gene': 'reference'}\n",
    "unknown = list()\n",
    "unrecognized = list()\n",
    "st2ref = {}\n",
    "for line in open(\"./msigdb/data/c3.tft.v6.1.entrez.gmt\").readlines():\n",
    "    geneset_name = line.strip().split('\\t')[0]\n",
    "    gs_name_v = geneset_name.split('_')\n",
    "    # gene symbols: Ideally, symbols should be no longer than six characters in length. \n",
    "    # GCTNWTTGK_UNKNOWN\n",
    "    if 'unknown' in gs_name_v[-1].lower():\n",
    "        unknown.append(geneset_name)\n",
    "        continue\n",
    "    # LEN = 4 GATTGGY_NFY_Q6_01\n",
    "    elif len(gs_name_v) == 4:\n",
    "        tf = gs_name_v[1]\n",
    "    # LEN = 3 two tfids: motif+TFACID or TFACID\n",
    "    # GCCATNTTG_YY1_Q6\n",
    "    elif len(gs_name_v) == 3 and len(gs_name_v[0]) >= 6:\n",
    "        tf = gs_name_v[1]\n",
    "    # AP4_Q6_01\n",
    "    elif len(gs_name_v) == 3 and len(gs_name_v[0]) < 6:\n",
    "        tf = gs_name_v[0]\n",
    "    # LEN = 2 GFI1_01\n",
    "    elif len(gs_name_v) == 2:\n",
    "        tf = gs_name_v[0]\n",
    "    else:\n",
    "        unrecognized.append(geneset_name)\n",
    "        continue\n",
    "    ref_uri = line.strip().split('\\t')[1]\n",
    "    genelist = line.strip().split('\\t')[2:]\n",
    "    for gene in set(genelist):\n",
    "        st = tf+':'+gene\n",
    "        add_elem_dictionary(st2ref, st, ref_uri)\n",
    "    \n",
    "# convert reference_uri list to str    \n",
    "for st in st2ref:\n",
    "    if len(st2ref[st]) > 1:\n",
    "        st2ref[st] = '|'.join(st2ref[st])\n",
    "        #print(st, st2ref[st])\n",
    "    else:\n",
    "        #st2ref[st] = st2ref[st]\n",
    "        for ref in st2ref[st]:\n",
    "            st2ref[st] = ref"
   ]
  },
  {
   "cell_type": "code",
   "execution_count": 40,
   "metadata": {},
   "outputs": [],
   "source": [
    "# msigdb\n",
    "if not os.path.exists('./msigdb/out'): os.makedirs('./msigdb/out')\n",
    "with open('./msigdb/out/msigdb_edges.csv','w') as f:\n",
    "    f.write(\"source,dataset,tf_source_id,gene_source_id,source_uri,s_entrez_id,s_hgnc_id,s_symbol,p_id,p_label,o_entrez_id,o_hgnc_id,o_symbol,reference_id,reference_date\\n\")\n",
    "    source = \"msigdb\"\n",
    "    source_uri = \"http://software.broadinstitute.org/gsea/msigdb\"\n",
    "    p_id = \"RO:0002434\"\n",
    "    p_label = \"interacts with\"\n",
    "    # c3:tft\n",
    "    dataset = \"c3:tft\"\n",
    "    #reference_id = \"NA\"\n",
    "    reference_date = \"NA\"\n",
    "    for tf in msigdb:\n",
    "        for gene in msigdb[tf]:\n",
    "            reference_id = st2ref[tf+':'+gene]\n",
    "            f.write(\n",
    "                \"{},{},{},{},{},{},{},{},{},{},{},{},{},{},{}\\n\"\n",
    "                .format(\n",
    "                    source,\n",
    "                    dataset,\n",
    "                    tf,\n",
    "                    gene,\n",
    "                    source_uri,\n",
    "                    symbol2entrez_dict[tf],\n",
    "                    symbol2hgnc_dict[tf],\n",
    "                    tf,\n",
    "                    p_id,\n",
    "                    p_label,\n",
    "                    \"NCBIGene:\"+str(gene),\n",
    "                    entrez2hgnc_dict[\"NCBIGene:\"+str(gene)],\n",
    "                    entrez2symbol_dict[\"NCBIGene:\"+str(gene)],\n",
    "                    reference_id,\n",
    "                    reference_date\n",
    "            )\n",
    "        )"
   ]
  },
  {
   "cell_type": "markdown",
   "metadata": {},
   "source": [
    "### Prepare Regulation edges to build the graph\n",
    "* concat tftargets and msigdb\n",
    "* give graph format\n",
    "* build edges and nodes files\n",
    "* concat with graph (edges and nodes): first curated > monarch > regulation\n",
    "* drop duplicates ((edges/nodes) rows, concepts\n",
    "* save graph\n",
    "* format for neo4j\n",
    "* save neo4j files"
   ]
  },
  {
   "cell_type": "code",
   "execution_count": 41,
   "metadata": {},
   "outputs": [],
   "source": [
    "import pandas as pd"
   ]
  },
  {
   "cell_type": "markdown",
   "metadata": {},
   "source": [
    "#### concat tftargets and msigdb"
   ]
  },
  {
   "cell_type": "code",
   "execution_count": 42,
   "metadata": {},
   "outputs": [
    {
     "name": "stdout",
     "output_type": "stream",
     "text": [
      "(83310, 15)\n"
     ]
    },
    {
     "name": "stderr",
     "output_type": "stream",
     "text": [
      "/home/nuria/anaconda3/envs/avalanche/lib/python3.6/site-packages/IPython/core/interactiveshell.py:2728: DtypeWarning: Columns (3) have mixed types. Specify dtype option on import or set low_memory=False.\n",
      "  interactivity=interactivity, compiler=compiler, result=result)\n"
     ]
    },
    {
     "data": {
      "text/html": [
       "<div>\n",
       "<style scoped>\n",
       "    .dataframe tbody tr th:only-of-type {\n",
       "        vertical-align: middle;\n",
       "    }\n",
       "\n",
       "    .dataframe tbody tr th {\n",
       "        vertical-align: top;\n",
       "    }\n",
       "\n",
       "    .dataframe thead th {\n",
       "        text-align: right;\n",
       "    }\n",
       "</style>\n",
       "<table border=\"1\" class=\"dataframe\">\n",
       "  <thead>\n",
       "    <tr style=\"text-align: right;\">\n",
       "      <th></th>\n",
       "      <th>source</th>\n",
       "      <th>dataset</th>\n",
       "      <th>tf_source_id</th>\n",
       "      <th>gene_source_id</th>\n",
       "      <th>source_uri</th>\n",
       "      <th>s_entrez_id</th>\n",
       "      <th>s_hgnc_id</th>\n",
       "      <th>s_symbol</th>\n",
       "      <th>p_id</th>\n",
       "      <th>p_label</th>\n",
       "      <th>o_entrez_id</th>\n",
       "      <th>o_hgnc_id</th>\n",
       "      <th>o_symbol</th>\n",
       "      <th>reference_id</th>\n",
       "      <th>reference_date</th>\n",
       "    </tr>\n",
       "  </thead>\n",
       "  <tbody>\n",
       "    <tr>\n",
       "      <th>83308</th>\n",
       "      <td>tftargets</td>\n",
       "      <td>trrust</td>\n",
       "      <td>ZNRD1</td>\n",
       "      <td>VEGFA</td>\n",
       "      <td>https://github.com/slowkow/tftargets</td>\n",
       "      <td>NCBIGene:30834</td>\n",
       "      <td>HGNC:13182</td>\n",
       "      <td>ZNRD1</td>\n",
       "      <td>RO:0002434</td>\n",
       "      <td>interacts with</td>\n",
       "      <td>NCBIGene:7422</td>\n",
       "      <td>HGNC:12680</td>\n",
       "      <td>VEGFA</td>\n",
       "      <td>PMID:21080911</td>\n",
       "      <td>NaN</td>\n",
       "    </tr>\n",
       "    <tr>\n",
       "      <th>83309</th>\n",
       "      <td>tftargets</td>\n",
       "      <td>trrust</td>\n",
       "      <td>ZSCAN21</td>\n",
       "      <td>SNCA</td>\n",
       "      <td>https://github.com/slowkow/tftargets</td>\n",
       "      <td>NCBIGene:7589</td>\n",
       "      <td>HGNC:13104</td>\n",
       "      <td>ZSCAN21</td>\n",
       "      <td>RO:0002434</td>\n",
       "      <td>interacts with</td>\n",
       "      <td>NCBIGene:6622</td>\n",
       "      <td>HGNC:11138</td>\n",
       "      <td>SNCA</td>\n",
       "      <td>PMID:19549071</td>\n",
       "      <td>NaN</td>\n",
       "    </tr>\n",
       "  </tbody>\n",
       "</table>\n",
       "</div>"
      ],
      "text/plain": [
       "          source dataset tf_source_id gene_source_id  \\\n",
       "83308  tftargets  trrust        ZNRD1          VEGFA   \n",
       "83309  tftargets  trrust      ZSCAN21           SNCA   \n",
       "\n",
       "                                 source_uri     s_entrez_id   s_hgnc_id  \\\n",
       "83308  https://github.com/slowkow/tftargets  NCBIGene:30834  HGNC:13182   \n",
       "83309  https://github.com/slowkow/tftargets   NCBIGene:7589  HGNC:13104   \n",
       "\n",
       "      s_symbol        p_id         p_label    o_entrez_id   o_hgnc_id  \\\n",
       "83308    ZNRD1  RO:0002434  interacts with  NCBIGene:7422  HGNC:12680   \n",
       "83309  ZSCAN21  RO:0002434  interacts with  NCBIGene:6622  HGNC:11138   \n",
       "\n",
       "      o_symbol   reference_id reference_date  \n",
       "83308    VEGFA  PMID:21080911            NaN  \n",
       "83309     SNCA  PMID:19549071            NaN  "
      ]
     },
     "execution_count": 42,
     "metadata": {},
     "output_type": "execute_result"
    }
   ],
   "source": [
    "# tftargets\n",
    "tftargets = pd.read_csv('./tftargets/out/tftargets_edges.csv')\n",
    "print(tftargets.shape)\n",
    "tftargets.tail(2)"
   ]
  },
  {
   "cell_type": "code",
   "execution_count": 43,
   "metadata": {},
   "outputs": [
    {
     "name": "stdout",
     "output_type": "stream",
     "text": [
      "(114157, 15)\n"
     ]
    },
    {
     "data": {
      "text/html": [
       "<div>\n",
       "<style scoped>\n",
       "    .dataframe tbody tr th:only-of-type {\n",
       "        vertical-align: middle;\n",
       "    }\n",
       "\n",
       "    .dataframe tbody tr th {\n",
       "        vertical-align: top;\n",
       "    }\n",
       "\n",
       "    .dataframe thead th {\n",
       "        text-align: right;\n",
       "    }\n",
       "</style>\n",
       "<table border=\"1\" class=\"dataframe\">\n",
       "  <thead>\n",
       "    <tr style=\"text-align: right;\">\n",
       "      <th></th>\n",
       "      <th>source</th>\n",
       "      <th>dataset</th>\n",
       "      <th>tf_source_id</th>\n",
       "      <th>gene_source_id</th>\n",
       "      <th>source_uri</th>\n",
       "      <th>s_entrez_id</th>\n",
       "      <th>s_hgnc_id</th>\n",
       "      <th>s_symbol</th>\n",
       "      <th>p_id</th>\n",
       "      <th>p_label</th>\n",
       "      <th>o_entrez_id</th>\n",
       "      <th>o_hgnc_id</th>\n",
       "      <th>o_symbol</th>\n",
       "      <th>reference_id</th>\n",
       "      <th>reference_date</th>\n",
       "    </tr>\n",
       "  </thead>\n",
       "  <tbody>\n",
       "    <tr>\n",
       "      <th>0</th>\n",
       "      <td>msigdb</td>\n",
       "      <td>c3:tft</td>\n",
       "      <td>AFP1</td>\n",
       "      <td>10911</td>\n",
       "      <td>http://software.broadinstitute.org/gsea/msigdb</td>\n",
       "      <td>NCBIGene:843257</td>\n",
       "      <td>NCBIGene:843257</td>\n",
       "      <td>AFP1</td>\n",
       "      <td>RO:0002434</td>\n",
       "      <td>interacts with</td>\n",
       "      <td>NCBIGene:10911</td>\n",
       "      <td>HGNC:12636</td>\n",
       "      <td>UTS2</td>\n",
       "      <td>http://www.broadinstitute.org/gsea/msigdb/card...</td>\n",
       "      <td>NaN</td>\n",
       "    </tr>\n",
       "    <tr>\n",
       "      <th>1</th>\n",
       "      <td>msigdb</td>\n",
       "      <td>c3:tft</td>\n",
       "      <td>AFP1</td>\n",
       "      <td>9241</td>\n",
       "      <td>http://software.broadinstitute.org/gsea/msigdb</td>\n",
       "      <td>NCBIGene:843257</td>\n",
       "      <td>NCBIGene:843257</td>\n",
       "      <td>AFP1</td>\n",
       "      <td>RO:0002434</td>\n",
       "      <td>interacts with</td>\n",
       "      <td>NCBIGene:9241</td>\n",
       "      <td>HGNC:7866</td>\n",
       "      <td>NOG</td>\n",
       "      <td>http://www.broadinstitute.org/gsea/msigdb/card...</td>\n",
       "      <td>NaN</td>\n",
       "    </tr>\n",
       "  </tbody>\n",
       "</table>\n",
       "</div>"
      ],
      "text/plain": [
       "   source dataset tf_source_id  gene_source_id  \\\n",
       "0  msigdb  c3:tft         AFP1           10911   \n",
       "1  msigdb  c3:tft         AFP1            9241   \n",
       "\n",
       "                                       source_uri      s_entrez_id  \\\n",
       "0  http://software.broadinstitute.org/gsea/msigdb  NCBIGene:843257   \n",
       "1  http://software.broadinstitute.org/gsea/msigdb  NCBIGene:843257   \n",
       "\n",
       "         s_hgnc_id s_symbol        p_id         p_label     o_entrez_id  \\\n",
       "0  NCBIGene:843257     AFP1  RO:0002434  interacts with  NCBIGene:10911   \n",
       "1  NCBIGene:843257     AFP1  RO:0002434  interacts with   NCBIGene:9241   \n",
       "\n",
       "    o_hgnc_id o_symbol                                       reference_id  \\\n",
       "0  HGNC:12636     UTS2  http://www.broadinstitute.org/gsea/msigdb/card...   \n",
       "1   HGNC:7866      NOG  http://www.broadinstitute.org/gsea/msigdb/card...   \n",
       "\n",
       "   reference_date  \n",
       "0             NaN  \n",
       "1             NaN  "
      ]
     },
     "execution_count": 43,
     "metadata": {},
     "output_type": "execute_result"
    }
   ],
   "source": [
    "# msigdb\n",
    "msigdb = pd.read_csv('./msigdb/out/msigdb_edges.csv')\n",
    "print(msigdb.shape)\n",
    "msigdb.head(2)"
   ]
  },
  {
   "cell_type": "code",
   "execution_count": 44,
   "metadata": {},
   "outputs": [
    {
     "name": "stdout",
     "output_type": "stream",
     "text": [
      "(197467, 15)\n"
     ]
    }
   ],
   "source": [
    "# concat tftargets and msigdb tg-gene edges\n",
    "edges = pd.concat([tftargets,msigdb],ignore_index=True)\n",
    "print(edges.shape)"
   ]
  },
  {
   "cell_type": "code",
   "execution_count": 45,
   "metadata": {
    "scrolled": true
   },
   "outputs": [
    {
     "data": {
      "text/plain": [
       "400"
      ]
     },
     "execution_count": 45,
     "metadata": {},
     "output_type": "execute_result"
    }
   ],
   "source": [
    "# see duplicates\n",
    "len(edges[edges.duplicated(keep=False)])"
   ]
  },
  {
   "cell_type": "code",
   "execution_count": 46,
   "metadata": {
    "scrolled": false
   },
   "outputs": [
    {
     "name": "stdout",
     "output_type": "stream",
     "text": [
      "197267\n"
     ]
    }
   ],
   "source": [
    "# drop duplicates\n",
    "edges.drop_duplicates(inplace=True)\n",
    "print(len(edges))"
   ]
  },
  {
   "cell_type": "markdown",
   "metadata": {},
   "source": [
    "#### build edges and nodes file\n",
    "file format: csv\n",
    "fill null wiht 'NA'. can be done with python function before saving\n",
    "##### edges\n",
    "1. `subject_id` str curie required\n",
    "2. `object_id` str curie required\n",
    "3. `property_id` str curie NA\n",
    "4. `property_label` str NA\n",
    "5. `property_description` str NA\n",
    "6. `property_uri` str NA\n",
    "7. `reference_uri` str NA\n",
    "8. `reference_supporting_text` str NA\n",
    "9. `reference_date` str NA | yyyy-mm-dd"
   ]
  },
  {
   "cell_type": "code",
   "execution_count": 47,
   "metadata": {},
   "outputs": [],
   "source": [
    "import os\n",
    "if not os.path.exists('./graph'): os.makedirs('./graph')"
   ]
  },
  {
   "cell_type": "markdown",
   "metadata": {},
   "source": [
    "#### select gene ID"
   ]
  },
  {
   "cell_type": "code",
   "execution_count": 48,
   "metadata": {},
   "outputs": [
    {
     "name": "stdout",
     "output_type": "stream",
     "text": [
      "Index(['source', 'dataset', 'tf_source_id', 'gene_source_id', 'source_uri',\n",
      "       's_entrez_id', 's_hgnc_id', 's_symbol', 'p_id', 'p_label',\n",
      "       'o_entrez_id', 'o_hgnc_id', 'o_symbol', 'reference_id',\n",
      "       'reference_date'],\n",
      "      dtype='object')\n"
     ]
    }
   ],
   "source": [
    "# select id\n",
    "curie = 'hgnc'.lower()\n",
    "\n",
    "# give graph format \n",
    "print(edges.columns)\n",
    "edges = (   edges\n",
    "            .rename(columns={'s_hgnc_id': 'subject_id',\n",
    "                             'p_id': 'property_id',\n",
    "                             'p_label': 'property_label',\n",
    "                             'o_hgnc_id': 'object_id'\n",
    "                            })\n",
    ")\n",
    "\n",
    "curie_dct = {\n",
    "    'ro': 'http://purl.obolibrary.org/obo/',\n",
    "    'pmid': 'https://www.ncbi.nlm.nih.gov/pubmed/',\n",
    "    'encode': 'https://www.encodeproject.org/search/?searchTerm='\n",
    "}\n",
    "\n",
    "edges_l = list()\n",
    "for i, row in edges.iterrows():\n",
    "    # property uri: http://purl.obolibrary.org/obo/RO_0002434\n",
    "    property_uri = 'NA'\n",
    "    if ':' in row['property_id']:\n",
    "        property_uri = curie_dct[row['property_id'].split(':')[0].lower()]+row['property_id'].replace(':','_')       \n",
    "    \n",
    "    # reference_uri: https://www.ncbi.nlm.nih.gov/pubmed/25416956\n",
    "    # capture nan or None values, i.e. all possible nulls\n",
    "    #if (isinstance(row['reference_id'], float) and str(row['reference_id']).lower() == 'nan') or row['reference_id'] is None:\n",
    "    #    row['reference_id'] = 'NA'\n",
    "    if ':' not in str(row['reference_id']):\n",
    "        reference_uri = row['source_uri'] #row['reference_id']\n",
    "    elif 'http://www.broadinstitute.org/gsea/msigdb/cards/' in str(row['reference_id']):\n",
    "        reference_uri = row['reference_id']\n",
    "    else:\n",
    "        try:\n",
    "            reference_uri = curie_dct[row['reference_id'].split(':')[0].lower()]+row['reference_id'].split(':')[1].replace(';',',') \n",
    "            #if 'pmid' in row['reference_id'].lower(): print(reference_uri)\n",
    "        except KeyError:\n",
    "            reference_uri = row['reference_id']\n",
    "            print('There is a reference curie with and unrecognized namespace:', row['reference_id'])\n",
    "    # build list of edges as list of dict, i.e a df, where a dict is an edge        \n",
    "    edge = dict()\n",
    "    edge['subject_id'] = row['subject_id']\n",
    "    edge['object_id'] = row['object_id']\n",
    "    edge['property_id'] = row['property_id']\n",
    "    edge['property_label'] = row['property_label']\n",
    "    edge['property_description'] = 'NA'\n",
    "    edge['property_uri'] = property_uri\n",
    "    edge['reference_uri'] = reference_uri\n",
    "    edge['reference_supporting_text'] = 'This edge comes from the {} dataset in \"{}\" source.'.format(row['dataset'].upper(),row['source']) # 'NA'\n",
    "    edge['reference_date'] = row['reference_date']\n",
    "    edges_l.append(edge)\n",
    "\n",
    "# save edges file\n",
    "pd.DataFrame(edges_l).fillna('NA').to_csv('./graph/regulation_edges_v{}.csv'.format(today), index=False)"
   ]
  },
  {
   "cell_type": "markdown",
   "metadata": {},
   "source": [
    "##### nodes\n",
    "1. `id` str curie required\n",
    "2. `semantic_groups` str required\n",
    "3. `preflabel` str label required\n",
    "4. `synonyms` str NA\n",
    "5. `description` str NA\n",
    "6. **new** `name` str NA"
   ]
  },
  {
   "cell_type": "code",
   "execution_count": 49,
   "metadata": {},
   "outputs": [
    {
     "name": "stdout",
     "output_type": "stream",
     "text": [
      "197267\n"
     ]
    }
   ],
   "source": [
    "print(len(edges))"
   ]
  },
  {
   "cell_type": "code",
   "execution_count": 50,
   "metadata": {},
   "outputs": [
    {
     "data": {
      "text/plain": [
       "16963"
      ]
     },
     "execution_count": 50,
     "metadata": {},
     "output_type": "execute_result"
    }
   ],
   "source": [
    "# retrieve node attributes from biothings and build dictionary\n",
    "# from biothings we retrieve: name (new attribute for short description), alias (synonyms), summary (description)\n",
    "# symbols in this case come from the original source. otherwise are gonna be retrieved from biothings as well.\n",
    "# build concept dict: {id:symbol}\n",
    "concept_dct = dict()\n",
    "for i, row in edges.iterrows():\n",
    "    # node for subject\n",
    "    concept_dct[row['subject_id']] = {\n",
    "        'preflabel': row['s_symbol'],\n",
    "        'name': None,\n",
    "        'synonyms': None,\n",
    "        'description': None\n",
    "    }\n",
    "    # node for object\n",
    "    concept_dct[row['object_id']] = {\n",
    "        'preflabel': row['o_symbol'],\n",
    "        'name': None,\n",
    "        'synonyms': None,\n",
    "        'description': None\n",
    "    }\n",
    "len(concept_dct.keys())"
   ]
  },
  {
   "cell_type": "markdown",
   "metadata": {},
   "source": [
    "### Trap genes without symbol"
   ]
  },
  {
   "cell_type": "code",
   "execution_count": 51,
   "metadata": {},
   "outputs": [
    {
     "name": "stdout",
     "output_type": "stream",
     "text": [
      "137\n"
     ]
    },
    {
     "data": {
      "text/plain": [
       "NCBIGene    137\n",
       "Name: id, dtype: int64"
      ]
     },
     "execution_count": 51,
     "metadata": {},
     "output_type": "execute_result"
    }
   ],
   "source": [
    "# trap nan symbols, i.e. discontinued entrez gene id\n",
    "concepts_no_symbol_set = set()\n",
    "for concept in concept_dct:\n",
    "    if str(concept_dct[concept]['preflabel']) == 'nan':\n",
    "        concepts_no_symbol_set.add(concept)\n",
    "print(len(concepts_no_symbol_set))\n",
    "concepts_no_symbol_set\n",
    "concepts_l = list(concepts_no_symbol_set)\n",
    "pd.DataFrame({'id':concepts_l}).id.apply(lambda x: x.split(':')[0]).value_counts()\n",
    "# checked that all are entrez"
   ]
  },
  {
   "cell_type": "code",
   "execution_count": 52,
   "metadata": {},
   "outputs": [
    {
     "name": "stdout",
     "output_type": "stream",
     "text": [
      "querying 1-137...done.\n",
      "Finished.\n",
      "88 input query terms found no hit:\n",
      "\t['79907', '79911', '93333', '121301', '143902', '146856', '151720', '197379', '219392', '221943', '2\n",
      "Pass \"returnall=True\" to return complete lists of duplicate or missing query terms.\n"
     ]
    },
    {
     "data": {
      "text/html": [
       "<div>\n",
       "<style scoped>\n",
       "    .dataframe tbody tr th:only-of-type {\n",
       "        vertical-align: middle;\n",
       "    }\n",
       "\n",
       "    .dataframe tbody tr th {\n",
       "        vertical-align: top;\n",
       "    }\n",
       "\n",
       "    .dataframe thead th {\n",
       "        text-align: right;\n",
       "    }\n",
       "</style>\n",
       "<table border=\"1\" class=\"dataframe\">\n",
       "  <thead>\n",
       "    <tr style=\"text-align: right;\">\n",
       "      <th></th>\n",
       "      <th>_id</th>\n",
       "      <th>_score</th>\n",
       "      <th>notfound</th>\n",
       "      <th>symbol</th>\n",
       "    </tr>\n",
       "    <tr>\n",
       "      <th>query</th>\n",
       "      <th></th>\n",
       "      <th></th>\n",
       "      <th></th>\n",
       "      <th></th>\n",
       "    </tr>\n",
       "  </thead>\n",
       "  <tbody>\n",
       "    <tr>\n",
       "      <th>9503</th>\n",
       "      <td>653067</td>\n",
       "      <td>1.55</td>\n",
       "      <td>NaN</td>\n",
       "      <td>XAGE1B</td>\n",
       "    </tr>\n",
       "    <tr>\n",
       "      <th>9714</th>\n",
       "      <td>55619</td>\n",
       "      <td>1.55</td>\n",
       "      <td>NaN</td>\n",
       "      <td>DOCK10</td>\n",
       "    </tr>\n",
       "  </tbody>\n",
       "</table>\n",
       "</div>"
      ],
      "text/plain": [
       "          _id  _score notfound  symbol\n",
       "query                                 \n",
       "9503   653067    1.55      NaN  XAGE1B\n",
       "9714    55619    1.55      NaN  DOCK10"
      ]
     },
     "execution_count": 52,
     "metadata": {},
     "output_type": "execute_result"
    }
   ],
   "source": [
    "# retrieve symbol for every ncbi gene\n",
    "entrez = list()\n",
    "for concept in concept_dct:\n",
    "    if str(concept_dct[concept]['preflabel']) == 'nan':\n",
    "        entrez.append(concept.split(':')[1])\n",
    "\n",
    "mg = get_client('gene')\n",
    "df1 = mg.querymany(entrez, scopes = 'entrezgene,retired', fields='symbol', size=1, as_dataframe=True)\n",
    "df1.head(2)"
   ]
  },
  {
   "cell_type": "code",
   "execution_count": 53,
   "metadata": {
    "scrolled": true
   },
   "outputs": [
    {
     "name": "stdout",
     "output_type": "stream",
     "text": [
      "(137, 4)\n",
      "49\n",
      "88\n",
      "88 entrez have no hit, i.e. withdrawn entrez from NCBI Gene\n"
     ]
    }
   ],
   "source": [
    "print(df1.shape)\n",
    "print(len(set(df1.symbol)))\n",
    "print(df1.symbol.isna().sum())\n",
    "print('88 entrez have no hit, i.e. withdrawn entrez from NCBI Gene')"
   ]
  },
  {
   "cell_type": "code",
   "execution_count": 54,
   "metadata": {},
   "outputs": [
    {
     "name": "stdout",
     "output_type": "stream",
     "text": [
      "137 137\n",
      "137 49\n",
      "137\n"
     ]
    }
   ],
   "source": [
    "# some entrez don't exist anymore >> no attributes\n",
    "# build ncbi2symbol dictionary\n",
    "e2s_df = df1.reset_index().rename(columns={'query':'entrez'}).copy()\n",
    "e2s = dict(zip(e2s_df.entrez, e2s_df.symbol))\n",
    "print(len(e2s_df.entrez),len(set(e2s_df.entrez)))\n",
    "print(len(e2s_df.symbol),len(set(e2s_df.symbol)))\n",
    "print(len(e2s))\n",
    "# dict stores nan values"
   ]
  },
  {
   "cell_type": "code",
   "execution_count": 55,
   "metadata": {},
   "outputs": [],
   "source": [
    "for concept in concept_dct:\n",
    "    if str(concept_dct[concept]['preflabel']) == 'nan' and concept.split(':')[0] == 'NCBIGene':\n",
    "        concept_dct[concept]['preflabel'] = e2s[concept.split(':')[1]]"
   ]
  },
  {
   "cell_type": "code",
   "execution_count": 56,
   "metadata": {},
   "outputs": [
    {
     "name": "stdout",
     "output_type": "stream",
     "text": [
      "['PAX1', 'PDGFRA', 'VHL', 'SLC22A6', 'SLC22A8']\n",
      "# of unique concepts with symbol: 16875\n",
      "# of unique symbols: 16843\n",
      "\n",
      "[nan, nan, nan, nan, nan]\n",
      "# of unique concepts without symbol, i.e. withdrawn: 88\n",
      "# of unique symbols: 1\n"
     ]
    }
   ],
   "source": [
    "# biothings api + dictionaries\n",
    "# input list for api: since by id we have hgnc/entrez or symbol, i am gonna use symbol\n",
    "symbols = list()\n",
    "symbols2 = list()\n",
    "for idx,symbol in concept_dct.items():\n",
    "    #id = key.split(':')[1] if ':' in key else key\n",
    "    if str(symbol['preflabel']) != 'nan':\n",
    "        symbols.append(symbol['preflabel']) \n",
    "    # withdrawn entrez\n",
    "    else:\n",
    "        symbols2.append(symbol['preflabel']) \n",
    "    \n",
    "print(symbols[0:5])    \n",
    "print('# of unique concepts with symbol:',len(symbols))\n",
    "print('# of unique symbols:',len(set(symbols)))\n",
    "print()\n",
    "print(symbols2[0:5])    \n",
    "print('# of unique concepts without symbol, i.e. withdrawn:',len(symbols2))\n",
    "print('# of unique symbols:',len(set(symbols2)))"
   ]
  },
  {
   "cell_type": "code",
   "execution_count": 57,
   "metadata": {
    "scrolled": false
   },
   "outputs": [
    {
     "name": "stdout",
     "output_type": "stream",
     "text": [
      "querying 1-1000...done.\n",
      "querying 1001-2000...done.\n",
      "querying 2001-3000...done.\n",
      "querying 3001-4000...done.\n",
      "querying 4001-5000...done.\n",
      "querying 5001-6000...done.\n",
      "querying 6001-7000...done.\n",
      "querying 7001-8000...done.\n",
      "querying 8001-9000...done.\n",
      "querying 9001-10000...done.\n",
      "querying 10001-11000...done.\n",
      "querying 11001-12000...done.\n",
      "querying 12001-13000...done.\n",
      "querying 13001-14000...done.\n",
      "querying 14001-15000...done.\n",
      "querying 15001-16000...done.\n",
      "querying 16001-16843...done.\n",
      "Finished.\n",
      "53 input query terms found no hit:\n",
      "\t['CEBPGAMMA', 'NFKAPPAB65', 'MEIS1AHOXA9', 'INSAF', 'ISRE', 'E2F1DP2', 'CDPCR3HD', 'E2F4DP2', 'RORA1\n",
      "Pass \"returnall=True\" to return complete lists of duplicate or missing query terms.\n"
     ]
    },
    {
     "data": {
      "text/html": [
       "<div>\n",
       "<style scoped>\n",
       "    .dataframe tbody tr th:only-of-type {\n",
       "        vertical-align: middle;\n",
       "    }\n",
       "\n",
       "    .dataframe tbody tr th {\n",
       "        vertical-align: top;\n",
       "    }\n",
       "\n",
       "    .dataframe thead th {\n",
       "        text-align: right;\n",
       "    }\n",
       "</style>\n",
       "<table border=\"1\" class=\"dataframe\">\n",
       "  <thead>\n",
       "    <tr style=\"text-align: right;\">\n",
       "      <th></th>\n",
       "      <th>_id</th>\n",
       "      <th>_score</th>\n",
       "      <th>alias</th>\n",
       "      <th>name</th>\n",
       "      <th>notfound</th>\n",
       "      <th>summary</th>\n",
       "    </tr>\n",
       "    <tr>\n",
       "      <th>query</th>\n",
       "      <th></th>\n",
       "      <th></th>\n",
       "      <th></th>\n",
       "      <th></th>\n",
       "      <th></th>\n",
       "      <th></th>\n",
       "    </tr>\n",
       "  </thead>\n",
       "  <tbody>\n",
       "    <tr>\n",
       "      <th>ELOA-AS1</th>\n",
       "      <td>100506963</td>\n",
       "      <td>107.30683</td>\n",
       "      <td>TCEB3-AS1</td>\n",
       "      <td>ELOA antisense RNA 1</td>\n",
       "      <td>NaN</td>\n",
       "      <td>NaN</td>\n",
       "    </tr>\n",
       "    <tr>\n",
       "      <th>MYO18B</th>\n",
       "      <td>84700</td>\n",
       "      <td>85.55801</td>\n",
       "      <td>KFS4</td>\n",
       "      <td>myosin XVIIIB</td>\n",
       "      <td>NaN</td>\n",
       "      <td>The protein encoded by this gene may regulate ...</td>\n",
       "    </tr>\n",
       "  </tbody>\n",
       "</table>\n",
       "</div>"
      ],
      "text/plain": [
       "                _id     _score      alias                  name notfound  \\\n",
       "query                                                                      \n",
       "ELOA-AS1  100506963  107.30683  TCEB3-AS1  ELOA antisense RNA 1      NaN   \n",
       "MYO18B        84700   85.55801       KFS4         myosin XVIIIB      NaN   \n",
       "\n",
       "                                                    summary  \n",
       "query                                                        \n",
       "ELOA-AS1                                                NaN  \n",
       "MYO18B    The protein encoded by this gene may regulate ...  "
      ]
     },
     "execution_count": 57,
     "metadata": {},
     "output_type": "execute_result"
    }
   ],
   "source": [
    "# api call\n",
    "symbols = list(set(symbols))\n",
    "mg = get_client('gene')\n",
    "df = mg.querymany(symbols, scopes = 'symbol,alias', fields='alias,name,summary', size=1, as_dataframe=True)\n",
    "df.head(2)"
   ]
  },
  {
   "cell_type": "code",
   "execution_count": 58,
   "metadata": {},
   "outputs": [
    {
     "name": "stdout",
     "output_type": "stream",
     "text": [
      "(16843, 6)\n",
      "16963\n"
     ]
    }
   ],
   "source": [
    "print(df.shape)\n",
    "print(len(concept_dct.keys()))"
   ]
  },
  {
   "cell_type": "code",
   "execution_count": 59,
   "metadata": {},
   "outputs": [
    {
     "name": "stdout",
     "output_type": "stream",
     "text": [
      "16963\n",
      "16875\n",
      "16963\n"
     ]
    }
   ],
   "source": [
    "# dictionaries {id: {name:, alias:, summary:}}\n",
    "i = 0\n",
    "print(len(concept_dct))\n",
    "for symbol, row in df.iterrows():\n",
    "    # associate concept to symbol\n",
    "    for concept in concept_dct:\n",
    "        #print(concept, symbol, concept_dct[concept]['preflabel'], row)\n",
    "        # 88 concepts without symbol (16992-88=16904 with symbol)\n",
    "        if concept_dct[concept]['preflabel'] == symbol:\n",
    "            i += 1\n",
    "            # add attributes\n",
    "            #print(concept, symbol, row['name'], row)\n",
    "            concept_dct[concept]['name'] = row['name']\n",
    "            concept_dct[concept]['synonyms'] = row['alias']\n",
    "            concept_dct[concept]['description'] = row['summary']\n",
    "print(i)\n",
    "print(len(concept_dct))"
   ]
  },
  {
   "cell_type": "code",
   "execution_count": 60,
   "metadata": {},
   "outputs": [
    {
     "data": {
      "text/plain": [
       "16963"
      ]
     },
     "execution_count": 60,
     "metadata": {},
     "output_type": "execute_result"
    }
   ],
   "source": [
    "# build a list of nodes as list of dict, i.e a df, where a dict is a node\n",
    "nodes_l = list()\n",
    "for concept in concept_dct:\n",
    "    # node for subject\n",
    "    node = dict()\n",
    "    node['id'] = concept\n",
    "    node['semantic_groups'] = 'GENE'\n",
    "    node['preflabel'] = concept_dct[concept]['preflabel']\n",
    "    node['name'] = concept_dct[concept]['name']\n",
    "    node['synonyms'] = '|'.join(list(concept_dct[concept]['synonyms'])) if isinstance(concept_dct[concept]['synonyms'], list) else concept_dct[concept]['synonyms']\n",
    "    node['description'] = concept_dct[concept]['description']\n",
    "    nodes_l.append(node)\n",
    "    \n",
    "# save nodes file    \n",
    "pd.DataFrame(nodes_l).fillna('NA').to_csv('./graph/regulation_nodes_v{}.csv'.format(today), index=False)\n",
    "len(nodes_l)"
   ]
  },
  {
   "cell_type": "code",
   "execution_count": 61,
   "metadata": {},
   "outputs": [
    {
     "data": {
      "text/plain": [
       "197267"
      ]
     },
     "execution_count": 61,
     "metadata": {},
     "output_type": "execute_result"
    }
   ],
   "source": [
    "len(edges_l)"
   ]
  },
  {
   "cell_type": "code",
   "execution_count": 62,
   "metadata": {
    "scrolled": false
   },
   "outputs": [
    {
     "name": "stderr",
     "output_type": "stream",
     "text": [
      "/home/nuria/anaconda3/envs/avalanche/lib/python3.6/site-packages/IPython/core/interactiveshell.py:2728: DtypeWarning: Columns (5) have mixed types. Specify dtype option on import or set low_memory=False.\n",
      "  interactivity=interactivity, compiler=compiler, result=result)\n"
     ]
    },
    {
     "data": {
      "text/html": [
       "<div>\n",
       "<style scoped>\n",
       "    .dataframe tbody tr th:only-of-type {\n",
       "        vertical-align: middle;\n",
       "    }\n",
       "\n",
       "    .dataframe tbody tr th {\n",
       "        vertical-align: top;\n",
       "    }\n",
       "\n",
       "    .dataframe thead th {\n",
       "        text-align: right;\n",
       "    }\n",
       "</style>\n",
       "<table border=\"1\" class=\"dataframe\">\n",
       "  <thead>\n",
       "    <tr style=\"text-align: right;\">\n",
       "      <th></th>\n",
       "      <th>object_id</th>\n",
       "      <th>property_description</th>\n",
       "      <th>property_id</th>\n",
       "      <th>property_label</th>\n",
       "      <th>property_uri</th>\n",
       "      <th>reference_date</th>\n",
       "      <th>reference_supporting_text</th>\n",
       "      <th>reference_uri</th>\n",
       "      <th>subject_id</th>\n",
       "    </tr>\n",
       "  </thead>\n",
       "  <tbody>\n",
       "    <tr>\n",
       "      <th>197262</th>\n",
       "      <td>HGNC:10931</td>\n",
       "      <td>NaN</td>\n",
       "      <td>RO:0002434</td>\n",
       "      <td>interacts with</td>\n",
       "      <td>http://purl.obolibrary.org/obo/RO_0002434</td>\n",
       "      <td>NaN</td>\n",
       "      <td>This edge comes from the C3:TFT dataset in \"ms...</td>\n",
       "      <td>http://www.broadinstitute.org/gsea/msigdb/card...</td>\n",
       "      <td>HGNC:16764</td>\n",
       "    </tr>\n",
       "    <tr>\n",
       "      <th>197263</th>\n",
       "      <td>HGNC:24561</td>\n",
       "      <td>NaN</td>\n",
       "      <td>RO:0002434</td>\n",
       "      <td>interacts with</td>\n",
       "      <td>http://purl.obolibrary.org/obo/RO_0002434</td>\n",
       "      <td>NaN</td>\n",
       "      <td>This edge comes from the C3:TFT dataset in \"ms...</td>\n",
       "      <td>http://www.broadinstitute.org/gsea/msigdb/card...</td>\n",
       "      <td>HGNC:16764</td>\n",
       "    </tr>\n",
       "    <tr>\n",
       "      <th>197264</th>\n",
       "      <td>HGNC:11209</td>\n",
       "      <td>NaN</td>\n",
       "      <td>RO:0002434</td>\n",
       "      <td>interacts with</td>\n",
       "      <td>http://purl.obolibrary.org/obo/RO_0002434</td>\n",
       "      <td>NaN</td>\n",
       "      <td>This edge comes from the C3:TFT dataset in \"ms...</td>\n",
       "      <td>http://www.broadinstitute.org/gsea/msigdb/card...</td>\n",
       "      <td>HGNC:16764</td>\n",
       "    </tr>\n",
       "    <tr>\n",
       "      <th>197265</th>\n",
       "      <td>HGNC:26314</td>\n",
       "      <td>NaN</td>\n",
       "      <td>RO:0002434</td>\n",
       "      <td>interacts with</td>\n",
       "      <td>http://purl.obolibrary.org/obo/RO_0002434</td>\n",
       "      <td>NaN</td>\n",
       "      <td>This edge comes from the C3:TFT dataset in \"ms...</td>\n",
       "      <td>http://www.broadinstitute.org/gsea/msigdb/card...</td>\n",
       "      <td>HGNC:16764</td>\n",
       "    </tr>\n",
       "    <tr>\n",
       "      <th>197266</th>\n",
       "      <td>HGNC:26137</td>\n",
       "      <td>NaN</td>\n",
       "      <td>RO:0002434</td>\n",
       "      <td>interacts with</td>\n",
       "      <td>http://purl.obolibrary.org/obo/RO_0002434</td>\n",
       "      <td>NaN</td>\n",
       "      <td>This edge comes from the C3:TFT dataset in \"ms...</td>\n",
       "      <td>http://www.broadinstitute.org/gsea/msigdb/card...</td>\n",
       "      <td>HGNC:16764</td>\n",
       "    </tr>\n",
       "  </tbody>\n",
       "</table>\n",
       "</div>"
      ],
      "text/plain": [
       "         object_id  property_description property_id  property_label  \\\n",
       "197262  HGNC:10931                   NaN  RO:0002434  interacts with   \n",
       "197263  HGNC:24561                   NaN  RO:0002434  interacts with   \n",
       "197264  HGNC:11209                   NaN  RO:0002434  interacts with   \n",
       "197265  HGNC:26314                   NaN  RO:0002434  interacts with   \n",
       "197266  HGNC:26137                   NaN  RO:0002434  interacts with   \n",
       "\n",
       "                                     property_uri reference_date  \\\n",
       "197262  http://purl.obolibrary.org/obo/RO_0002434            NaN   \n",
       "197263  http://purl.obolibrary.org/obo/RO_0002434            NaN   \n",
       "197264  http://purl.obolibrary.org/obo/RO_0002434            NaN   \n",
       "197265  http://purl.obolibrary.org/obo/RO_0002434            NaN   \n",
       "197266  http://purl.obolibrary.org/obo/RO_0002434            NaN   \n",
       "\n",
       "                                reference_supporting_text  \\\n",
       "197262  This edge comes from the C3:TFT dataset in \"ms...   \n",
       "197263  This edge comes from the C3:TFT dataset in \"ms...   \n",
       "197264  This edge comes from the C3:TFT dataset in \"ms...   \n",
       "197265  This edge comes from the C3:TFT dataset in \"ms...   \n",
       "197266  This edge comes from the C3:TFT dataset in \"ms...   \n",
       "\n",
       "                                            reference_uri  subject_id  \n",
       "197262  http://www.broadinstitute.org/gsea/msigdb/card...  HGNC:16764  \n",
       "197263  http://www.broadinstitute.org/gsea/msigdb/card...  HGNC:16764  \n",
       "197264  http://www.broadinstitute.org/gsea/msigdb/card...  HGNC:16764  \n",
       "197265  http://www.broadinstitute.org/gsea/msigdb/card...  HGNC:16764  \n",
       "197266  http://www.broadinstitute.org/gsea/msigdb/card...  HGNC:16764  "
      ]
     },
     "execution_count": 62,
     "metadata": {},
     "output_type": "execute_result"
    }
   ],
   "source": [
    "import pandas as pd\n",
    "df = pd.read_csv('./graph/regulation_edges_v{}.csv'.format(today))\n",
    "df.tail(5)"
   ]
  },
  {
   "cell_type": "code",
   "execution_count": 63,
   "metadata": {},
   "outputs": [
    {
     "data": {
      "text/html": [
       "<div>\n",
       "<style scoped>\n",
       "    .dataframe tbody tr th:only-of-type {\n",
       "        vertical-align: middle;\n",
       "    }\n",
       "\n",
       "    .dataframe tbody tr th {\n",
       "        vertical-align: top;\n",
       "    }\n",
       "\n",
       "    .dataframe thead th {\n",
       "        text-align: right;\n",
       "    }\n",
       "</style>\n",
       "<table border=\"1\" class=\"dataframe\">\n",
       "  <thead>\n",
       "    <tr style=\"text-align: right;\">\n",
       "      <th></th>\n",
       "      <th>description</th>\n",
       "      <th>id</th>\n",
       "      <th>name</th>\n",
       "      <th>preflabel</th>\n",
       "      <th>semantic_groups</th>\n",
       "      <th>synonyms</th>\n",
       "    </tr>\n",
       "  </thead>\n",
       "  <tbody>\n",
       "    <tr>\n",
       "      <th>0</th>\n",
       "      <td>This gene is a member of the paired box (PAX) ...</td>\n",
       "      <td>HGNC:8615</td>\n",
       "      <td>paired box 1</td>\n",
       "      <td>PAX1</td>\n",
       "      <td>GENE</td>\n",
       "      <td>HUP48|OFC2</td>\n",
       "    </tr>\n",
       "    <tr>\n",
       "      <th>1</th>\n",
       "      <td>This gene encodes a cell surface tyrosine kina...</td>\n",
       "      <td>HGNC:8803</td>\n",
       "      <td>platelet derived growth factor receptor alpha</td>\n",
       "      <td>PDGFRA</td>\n",
       "      <td>GENE</td>\n",
       "      <td>CD140A|PDGFR-2|PDGFR2</td>\n",
       "    </tr>\n",
       "    <tr>\n",
       "      <th>2</th>\n",
       "      <td>Von Hippel-Lindau syndrome (VHL) is a dominant...</td>\n",
       "      <td>HGNC:12687</td>\n",
       "      <td>von Hippel-Lindau tumor suppressor</td>\n",
       "      <td>VHL</td>\n",
       "      <td>GENE</td>\n",
       "      <td>HRCA1|RCA1|VHL1|pVHL</td>\n",
       "    </tr>\n",
       "    <tr>\n",
       "      <th>3</th>\n",
       "      <td>The protein encoded by this gene is involved i...</td>\n",
       "      <td>HGNC:10970</td>\n",
       "      <td>solute carrier family 22 member 6</td>\n",
       "      <td>SLC22A6</td>\n",
       "      <td>GENE</td>\n",
       "      <td>HOAT1|OAT1|PAHT|ROAT1</td>\n",
       "    </tr>\n",
       "    <tr>\n",
       "      <th>4</th>\n",
       "      <td>This gene encodes a protein involved in the so...</td>\n",
       "      <td>HGNC:10972</td>\n",
       "      <td>solute carrier family 22 member 8</td>\n",
       "      <td>SLC22A8</td>\n",
       "      <td>GENE</td>\n",
       "      <td>OAT3</td>\n",
       "    </tr>\n",
       "  </tbody>\n",
       "</table>\n",
       "</div>"
      ],
      "text/plain": [
       "                                         description          id  \\\n",
       "0  This gene is a member of the paired box (PAX) ...   HGNC:8615   \n",
       "1  This gene encodes a cell surface tyrosine kina...   HGNC:8803   \n",
       "2  Von Hippel-Lindau syndrome (VHL) is a dominant...  HGNC:12687   \n",
       "3  The protein encoded by this gene is involved i...  HGNC:10970   \n",
       "4  This gene encodes a protein involved in the so...  HGNC:10972   \n",
       "\n",
       "                                            name preflabel semantic_groups  \\\n",
       "0                                   paired box 1      PAX1            GENE   \n",
       "1  platelet derived growth factor receptor alpha    PDGFRA            GENE   \n",
       "2             von Hippel-Lindau tumor suppressor       VHL            GENE   \n",
       "3              solute carrier family 22 member 6   SLC22A6            GENE   \n",
       "4              solute carrier family 22 member 8   SLC22A8            GENE   \n",
       "\n",
       "                synonyms  \n",
       "0             HUP48|OFC2  \n",
       "1  CD140A|PDGFR-2|PDGFR2  \n",
       "2   HRCA1|RCA1|VHL1|pVHL  \n",
       "3  HOAT1|OAT1|PAHT|ROAT1  \n",
       "4                   OAT3  "
      ]
     },
     "execution_count": 63,
     "metadata": {},
     "output_type": "execute_result"
    }
   ],
   "source": [
    "import pandas as pd\n",
    "df = pd.read_csv('./graph/regulation_nodes_v{}.csv'.format(today))\n",
    "df.head(5)"
   ]
  },
  {
   "cell_type": "code",
   "execution_count": 67,
   "metadata": {
    "scrolled": true
   },
   "outputs": [
    {
     "name": "stdout",
     "output_type": "stream",
     "text": [
      "(16963, 6)\n",
      "16963\n",
      "16963\n"
     ]
    }
   ],
   "source": [
    "print(df.shape)\n",
    "print(len(list(df.id)))\n",
    "print(len(set(list(df.id))))"
   ]
  }
 ],
 "metadata": {
  "kernelspec": {
   "display_name": "Python 3",
   "language": "python",
   "name": "python3"
  }
 },
 "nbformat": 4,
 "nbformat_minor": 2
}
