{
 "cells": [
  {
   "cell_type": "code",
   "execution_count": 1,
   "metadata": {},
   "outputs": [],
   "source": [
    "# @name transcriptomics\n",
    "# @description notebook to build data-driven networks from various rna-seq edges datasets\n",
    "# @author Núria Queralt Rosinach\n",
    "# @date 04-02-2018\n",
    "\n",
    "# gene names in ensembl\n",
    "# http://uswest.ensembl.org/info/genome/genebuild/gene_names.html\n",
    "\n",
    "# avoid interpret commas inside text by the csv reader\n",
    "# https://stackoverflow.com/questions/21527057/python-parse-csv-ignoring-comma-with-double-quotes?utm_medium=organic&utm_source=google_rich_qa&utm_campaign=google_rich_qa\n",
    "# https://pandas.pydata.org/pandas-docs/stable/generated/pandas.read_csv.html"
   ]
  },
  {
   "cell_type": "code",
   "execution_count": 2,
   "metadata": {},
   "outputs": [],
   "source": [
    "# to do:\n",
    "#     * "
   ]
  },
  {
   "cell_type": "code",
   "execution_count": 3,
   "metadata": {},
   "outputs": [],
   "source": [
    "import pandas as pd\n",
    "from biothings_client import get_client"
   ]
  },
  {
   "cell_type": "markdown",
   "metadata": {},
   "source": [
    "### Load ngly1_{fly, hyman}-gene edges\n",
    "\n",
    "#### what sets should i load?\n",
    "\n",
    "* Chow fly transcriptome subsets:\n",
    "    * all: 15.000 genes\n",
    "    * FC1.5, FDR 5%: 386 genes\n",
    "    * FC2.0, FDR 5%: 87 genes\n",
    "* Freeze human transcriptome subsets: \n",
    "    * all: 1906 genes\n",
    "    * FC1.5, FDR 5%: 1897 genes\n",
    "    * FC2.0, FDR 5%: 1349 genes\n",
    "\n",
    "**Conclusion**: I am going to load Chow_FC1.5 (paper analysis) and Freeze_all transcriptomes (it seems already filtered, and these are the set of genes they want to analyse)."
   ]
  },
  {
   "cell_type": "code",
   "execution_count": 4,
   "metadata": {},
   "outputs": [
    {
     "name": "stdout",
     "output_type": "stream",
     "text": [
      "(386, 6)\n"
     ]
    },
    {
     "data": {
      "text/html": [
       "<div>\n",
       "<style scoped>\n",
       "    .dataframe tbody tr th:only-of-type {\n",
       "        vertical-align: middle;\n",
       "    }\n",
       "\n",
       "    .dataframe tbody tr th {\n",
       "        vertical-align: top;\n",
       "    }\n",
       "\n",
       "    .dataframe thead th {\n",
       "        text-align: right;\n",
       "    }\n",
       "</style>\n",
       "<table border=\"1\" class=\"dataframe\">\n",
       "  <thead>\n",
       "    <tr style=\"text-align: right;\">\n",
       "      <th></th>\n",
       "      <th>FlyBase ID</th>\n",
       "      <th>Symbol</th>\n",
       "      <th>log2FoldChange</th>\n",
       "      <th>pvalue</th>\n",
       "      <th>padj</th>\n",
       "      <th>Regulation</th>\n",
       "    </tr>\n",
       "  </thead>\n",
       "  <tbody>\n",
       "    <tr>\n",
       "      <th>0</th>\n",
       "      <td>FBgn0035904</td>\n",
       "      <td>GstO3</td>\n",
       "      <td>0.576871</td>\n",
       "      <td>2.130000e-08</td>\n",
       "      <td>0.000002</td>\n",
       "      <td>Upregulated</td>\n",
       "    </tr>\n",
       "    <tr>\n",
       "      <th>1</th>\n",
       "      <td>FBgn0051469</td>\n",
       "      <td>CG31469</td>\n",
       "      <td>0.575625</td>\n",
       "      <td>2.022103e-03</td>\n",
       "      <td>0.035791</td>\n",
       "      <td>Upregulated</td>\n",
       "    </tr>\n",
       "  </tbody>\n",
       "</table>\n",
       "</div>"
      ],
      "text/plain": [
       "    FlyBase ID   Symbol  log2FoldChange        pvalue      padj   Regulation\n",
       "0  FBgn0035904    GstO3        0.576871  2.130000e-08  0.000002  Upregulated\n",
       "1  FBgn0051469  CG31469        0.575625  2.022103e-03  0.035791  Upregulated"
      ]
     },
     "execution_count": 4,
     "metadata": {},
     "output_type": "execute_result"
    }
   ],
   "source": [
    "chow = pd.read_csv('./ngly1-fly-chow-2018/out/fc1.5_fdr5_transcriptome_fly.csv')\n",
    "print(chow.shape)\n",
    "chow.head(2)"
   ]
  },
  {
   "cell_type": "code",
   "execution_count": 5,
   "metadata": {
    "scrolled": true
   },
   "outputs": [
    {
     "name": "stdout",
     "output_type": "stream",
     "text": [
      "(1906, 7)\n"
     ]
    },
    {
     "data": {
      "text/html": [
       "<div>\n",
       "<style scoped>\n",
       "    .dataframe tbody tr th:only-of-type {\n",
       "        vertical-align: middle;\n",
       "    }\n",
       "\n",
       "    .dataframe tbody tr th {\n",
       "        vertical-align: top;\n",
       "    }\n",
       "\n",
       "    .dataframe thead th {\n",
       "        text-align: right;\n",
       "    }\n",
       "</style>\n",
       "<table border=\"1\" class=\"dataframe\">\n",
       "  <thead>\n",
       "    <tr style=\"text-align: right;\">\n",
       "      <th></th>\n",
       "      <th>ensembl_id</th>\n",
       "      <th>gene_name</th>\n",
       "      <th>gene_biotype</th>\n",
       "      <th>log2FoldChange</th>\n",
       "      <th>pvalue</th>\n",
       "      <th>padj</th>\n",
       "      <th>Regulation</th>\n",
       "    </tr>\n",
       "  </thead>\n",
       "  <tbody>\n",
       "    <tr>\n",
       "      <th>0</th>\n",
       "      <td>ENSG00000138829</td>\n",
       "      <td>FBN2</td>\n",
       "      <td>protein_coding</td>\n",
       "      <td>4.147393</td>\n",
       "      <td>1.090000e-74</td>\n",
       "      <td>1.810000e-70</td>\n",
       "      <td>Upregulated</td>\n",
       "    </tr>\n",
       "    <tr>\n",
       "      <th>1</th>\n",
       "      <td>ENSG00000169515</td>\n",
       "      <td>CCDC8</td>\n",
       "      <td>protein_coding</td>\n",
       "      <td>5.233138</td>\n",
       "      <td>1.330000e-53</td>\n",
       "      <td>5.520000e-50</td>\n",
       "      <td>Upregulated</td>\n",
       "    </tr>\n",
       "  </tbody>\n",
       "</table>\n",
       "</div>"
      ],
      "text/plain": [
       "        ensembl_id gene_name    gene_biotype  log2FoldChange        pvalue  \\\n",
       "0  ENSG00000138829      FBN2  protein_coding        4.147393  1.090000e-74   \n",
       "1  ENSG00000169515     CCDC8  protein_coding        5.233138  1.330000e-53   \n",
       "\n",
       "           padj   Regulation  \n",
       "0  1.810000e-70  Upregulated  \n",
       "1  5.520000e-50  Upregulated  "
      ]
     },
     "execution_count": 5,
     "metadata": {},
     "output_type": "execute_result"
    }
   ],
   "source": [
    "freeze = pd.read_csv('./ngly1-human-freezelab-2018/out/all_transcriptome_human.csv')\n",
    "print(freeze.shape)\n",
    "freeze.head(2)"
   ]
  },
  {
   "cell_type": "markdown",
   "metadata": {},
   "source": [
    "### Normalize human genes 2 entrez, HGNC Id\n",
    "\n",
    "* **ensembl**: all genes \n",
    "\n",
    "#### Input ID list"
   ]
  },
  {
   "cell_type": "code",
   "execution_count": 6,
   "metadata": {},
   "outputs": [
    {
     "name": "stdout",
     "output_type": "stream",
     "text": [
      "1906\n",
      "['ENSG00000138829', 'ENSG00000169515', 'ENSG00000242265', 'ENSG00000204941', 'ENSG00000187720']\n"
     ]
    }
   ],
   "source": [
    "# ensembl\n",
    "ensembl = list(freeze.ensembl_id)\n",
    "print(len(ensembl))\n",
    "print(ensembl[0:5])"
   ]
  },
  {
   "cell_type": "markdown",
   "metadata": {},
   "source": [
    "#### ID dictionaries: ensembl2entrez, ensembl2hgnc"
   ]
  },
  {
   "cell_type": "code",
   "execution_count": 7,
   "metadata": {},
   "outputs": [
    {
     "name": "stdout",
     "output_type": "stream",
     "text": [
      "querying 1-1000...done.\n",
      "querying 1001-1906...done.\n",
      "Finished.\n",
      "40 input query terms found no hit:\n",
      "\t['ENSG00000226958', 'ENSG00000199916', 'ENSG00000171282', 'ENSG00000264063', 'ENSG00000260833', 'ENS\n",
      "Pass \"returnall=True\" to return complete lists of duplicate or missing query terms.\n"
     ]
    }
   ],
   "source": [
    "# ensembl2entrez and ensembl2hgnc dict\n",
    "mg = get_client('gene')\n",
    "df = mg.querymany(ensembl, scopes = 'ensembl.gene', fields='entrezgene,HGNC', size=1, as_dataframe=True)"
   ]
  },
  {
   "cell_type": "code",
   "execution_count": 8,
   "metadata": {},
   "outputs": [
    {
     "data": {
      "text/html": [
       "<div>\n",
       "<style scoped>\n",
       "    .dataframe tbody tr th:only-of-type {\n",
       "        vertical-align: middle;\n",
       "    }\n",
       "\n",
       "    .dataframe tbody tr th {\n",
       "        vertical-align: top;\n",
       "    }\n",
       "\n",
       "    .dataframe thead th {\n",
       "        text-align: right;\n",
       "    }\n",
       "</style>\n",
       "<table border=\"1\" class=\"dataframe\">\n",
       "  <thead>\n",
       "    <tr style=\"text-align: right;\">\n",
       "      <th></th>\n",
       "      <th>HGNC</th>\n",
       "      <th>_id</th>\n",
       "      <th>_score</th>\n",
       "      <th>entrezgene</th>\n",
       "      <th>notfound</th>\n",
       "    </tr>\n",
       "    <tr>\n",
       "      <th>query</th>\n",
       "      <th></th>\n",
       "      <th></th>\n",
       "      <th></th>\n",
       "      <th></th>\n",
       "      <th></th>\n",
       "    </tr>\n",
       "  </thead>\n",
       "  <tbody>\n",
       "    <tr>\n",
       "      <th>ENSG00000138829</th>\n",
       "      <td>3604</td>\n",
       "      <td>2201</td>\n",
       "      <td>17.464752</td>\n",
       "      <td>2201.0</td>\n",
       "      <td>NaN</td>\n",
       "    </tr>\n",
       "    <tr>\n",
       "      <th>ENSG00000169515</th>\n",
       "      <td>25367</td>\n",
       "      <td>83987</td>\n",
       "      <td>18.010357</td>\n",
       "      <td>83987.0</td>\n",
       "      <td>NaN</td>\n",
       "    </tr>\n",
       "  </tbody>\n",
       "</table>\n",
       "</div>"
      ],
      "text/plain": [
       "                  HGNC    _id     _score  entrezgene notfound\n",
       "query                                                        \n",
       "ENSG00000138829   3604   2201  17.464752      2201.0      NaN\n",
       "ENSG00000169515  25367  83987  18.010357     83987.0      NaN"
      ]
     },
     "execution_count": 8,
     "metadata": {},
     "output_type": "execute_result"
    }
   ],
   "source": [
    "df.head(2)"
   ]
  },
  {
   "cell_type": "code",
   "execution_count": 9,
   "metadata": {},
   "outputs": [],
   "source": [
    "# not found\n",
    "missing = df[['notfound']].copy()\n",
    "missing = missing.reset_index().rename(columns={'query': 'ensembl'})\n",
    "missing = missing[missing['notfound'] == True][['ensembl']] \n",
    "missing_ensembl_l = list(missing.ensembl)\n",
    "\n",
    "# save not found\n",
    "with open('./ngly1-human-freezelab-2018/out/not_found_ensembl.list','w') as f:\n",
    "    f.write('\\n'.join(missing_ensembl_l))"
   ]
  },
  {
   "cell_type": "code",
   "execution_count": 10,
   "metadata": {},
   "outputs": [
    {
     "name": "stdout",
     "output_type": "stream",
     "text": [
      "ensembl: <class 'str'>\n",
      "hgnc: <class 'str'>\n",
      "entrez: <class 'str'>\n"
     ]
    },
    {
     "data": {
      "text/html": [
       "<div>\n",
       "<style scoped>\n",
       "    .dataframe tbody tr th:only-of-type {\n",
       "        vertical-align: middle;\n",
       "    }\n",
       "\n",
       "    .dataframe tbody tr th {\n",
       "        vertical-align: top;\n",
       "    }\n",
       "\n",
       "    .dataframe thead th {\n",
       "        text-align: right;\n",
       "    }\n",
       "</style>\n",
       "<table border=\"1\" class=\"dataframe\">\n",
       "  <thead>\n",
       "    <tr style=\"text-align: right;\">\n",
       "      <th></th>\n",
       "      <th>ensembl</th>\n",
       "      <th>hgnc</th>\n",
       "      <th>entrezgene</th>\n",
       "      <th>entrez</th>\n",
       "    </tr>\n",
       "  </thead>\n",
       "  <tbody>\n",
       "    <tr>\n",
       "      <th>0</th>\n",
       "      <td>ENSG00000138829</td>\n",
       "      <td>3604</td>\n",
       "      <td>2201.0</td>\n",
       "      <td>2201</td>\n",
       "    </tr>\n",
       "    <tr>\n",
       "      <th>1</th>\n",
       "      <td>ENSG00000169515</td>\n",
       "      <td>25367</td>\n",
       "      <td>83987.0</td>\n",
       "      <td>83987</td>\n",
       "    </tr>\n",
       "  </tbody>\n",
       "</table>\n",
       "</div>"
      ],
      "text/plain": [
       "           ensembl   hgnc  entrezgene entrez\n",
       "0  ENSG00000138829   3604      2201.0   2201\n",
       "1  ENSG00000169515  25367     83987.0  83987"
      ]
     },
     "execution_count": 10,
     "metadata": {},
     "output_type": "execute_result"
    }
   ],
   "source": [
    "# prepare ids dataframe for dictionary construction\n",
    "ids =( df.reset_index()\n",
    "         .rename(columns={'query': 'ensembl','HGNC': 'hgnc'}) \n",
    "         [['ensembl','hgnc','entrezgene']]\n",
    "         .copy()\n",
    "     )\n",
    "ids['entrez'] = ids.entrezgene.apply(lambda x: str(round(x)) if x > 0 else 0)\n",
    "print('ensembl:', type(ids['ensembl'][0]))\n",
    "print('hgnc:', type(ids['hgnc'][0]))\n",
    "print('entrez:', type(ids['entrez'][0]))\n",
    "ids.head(2)"
   ]
  },
  {
   "cell_type": "code",
   "execution_count": 11,
   "metadata": {},
   "outputs": [],
   "source": [
    "# build dictionaries\n",
    "# value types: \n",
    "# ensembl=> str, no nulls\n",
    "# hgnc=> str, null=> float(nan)\n",
    "# entrez=> str, null=> float(0)\n",
    "# dictionaries for normalization to an ID (not null allowed). the final ID must be from one of the several schemes.\n",
    "# namespace added. no namespace added to ensembl_ids\n",
    "ensembl2entrez_dict = dict(zip(ids.ensembl,ids.entrez))\n",
    "ensembl2hgnc_dict = dict(zip(ids.ensembl,ids.hgnc))\n",
    "\n",
    "# associate ensembl for those genes without entrez: ensembl=> entrez > ensembl\n",
    "for ensembl in ensembl2entrez_dict:\n",
    "    if ensembl2entrez_dict[ensembl] == 0:\n",
    "        ensembl2entrez_dict[ensembl] = 'ENSEMBL:'+ensembl\n",
    "    else:\n",
    "        entrez = ensembl2entrez_dict[ensembl]\n",
    "        ensembl2entrez_dict[ensembl] = 'NCBIGene:'+entrez\n",
    "\n",
    "# associate ensembl for those genes without hgnc: ensembl=> hgnc > ensembl\n",
    "## obsolete: associate entrez else ensembl for those genes without hgnc: ensembl=> hgnc > entrez > ensembl\n",
    "## monarch change: human genes are HGNC ID or ENSEMBL ID.  NGCBIGene ID for other species, more:\n",
    "## gene names in ensembl\n",
    "## http://uswest.ensembl.org/info/genome/genebuild/gene_names.html\n",
    "for ensembl in ensembl2hgnc_dict:\n",
    "    if isinstance(ensembl2hgnc_dict.get(ensembl),float):\n",
    "        ensembl2hgnc_dict[ensembl] = 'ENSEMBL:'+ensembl #ensembl2entrez_dict[ensembl]\n",
    "    else:\n",
    "        hgnc = ensembl2hgnc_dict[ensembl]\n",
    "        ensembl2hgnc_dict[ensembl] = 'HGNC:'+hgnc"
   ]
  },
  {
   "cell_type": "markdown",
   "metadata": {},
   "source": [
    "#### Normalize ID to entrez, else: ensembl"
   ]
  },
  {
   "cell_type": "code",
   "execution_count": 12,
   "metadata": {},
   "outputs": [
    {
     "data": {
      "text/html": [
       "<div>\n",
       "<style scoped>\n",
       "    .dataframe tbody tr th:only-of-type {\n",
       "        vertical-align: middle;\n",
       "    }\n",
       "\n",
       "    .dataframe tbody tr th {\n",
       "        vertical-align: top;\n",
       "    }\n",
       "\n",
       "    .dataframe thead th {\n",
       "        text-align: right;\n",
       "    }\n",
       "</style>\n",
       "<table border=\"1\" class=\"dataframe\">\n",
       "  <thead>\n",
       "    <tr style=\"text-align: right;\">\n",
       "      <th></th>\n",
       "      <th>ensembl_id</th>\n",
       "      <th>gene_name</th>\n",
       "      <th>gene_biotype</th>\n",
       "      <th>log2FoldChange</th>\n",
       "      <th>pvalue</th>\n",
       "      <th>padj</th>\n",
       "      <th>Regulation</th>\n",
       "      <th>o_ensembl_id</th>\n",
       "      <th>o_entrez_id</th>\n",
       "    </tr>\n",
       "  </thead>\n",
       "  <tbody>\n",
       "    <tr>\n",
       "      <th>0</th>\n",
       "      <td>ENSG00000138829</td>\n",
       "      <td>FBN2</td>\n",
       "      <td>protein_coding</td>\n",
       "      <td>4.147393</td>\n",
       "      <td>1.090000e-74</td>\n",
       "      <td>1.810000e-70</td>\n",
       "      <td>Upregulated</td>\n",
       "      <td>ENSEMBL:ENSG00000138829</td>\n",
       "      <td>NCBIGene:2201</td>\n",
       "    </tr>\n",
       "    <tr>\n",
       "      <th>1</th>\n",
       "      <td>ENSG00000169515</td>\n",
       "      <td>CCDC8</td>\n",
       "      <td>protein_coding</td>\n",
       "      <td>5.233138</td>\n",
       "      <td>1.330000e-53</td>\n",
       "      <td>5.520000e-50</td>\n",
       "      <td>Upregulated</td>\n",
       "      <td>ENSEMBL:ENSG00000169515</td>\n",
       "      <td>NCBIGene:83987</td>\n",
       "    </tr>\n",
       "  </tbody>\n",
       "</table>\n",
       "</div>"
      ],
      "text/plain": [
       "        ensembl_id gene_name    gene_biotype  log2FoldChange        pvalue  \\\n",
       "0  ENSG00000138829      FBN2  protein_coding        4.147393  1.090000e-74   \n",
       "1  ENSG00000169515     CCDC8  protein_coding        5.233138  1.330000e-53   \n",
       "\n",
       "           padj   Regulation             o_ensembl_id     o_entrez_id  \n",
       "0  1.810000e-70  Upregulated  ENSEMBL:ENSG00000138829   NCBIGene:2201  \n",
       "1  5.520000e-50  Upregulated  ENSEMBL:ENSG00000169515  NCBIGene:83987  "
      ]
     },
     "execution_count": 12,
     "metadata": {},
     "output_type": "execute_result"
    }
   ],
   "source": [
    "# add field object_ensembl_id with namespace\n",
    "freeze['o_ensembl_id'] = freeze.ensembl_id.apply(lambda x: 'ENSEMBL:' + str(x))\n",
    "\n",
    "# Map ensembl to entrez\n",
    "freeze['o_entrez_id'] = freeze.ensembl_id.apply(lambda x: ensembl2entrez_dict[x])\n",
    "freeze.head(2)"
   ]
  },
  {
   "cell_type": "markdown",
   "metadata": {},
   "source": [
    "#### Normalize ID to hgnc, else: ensembl"
   ]
  },
  {
   "cell_type": "code",
   "execution_count": 13,
   "metadata": {},
   "outputs": [
    {
     "data": {
      "text/html": [
       "<div>\n",
       "<style scoped>\n",
       "    .dataframe tbody tr th:only-of-type {\n",
       "        vertical-align: middle;\n",
       "    }\n",
       "\n",
       "    .dataframe tbody tr th {\n",
       "        vertical-align: top;\n",
       "    }\n",
       "\n",
       "    .dataframe thead th {\n",
       "        text-align: right;\n",
       "    }\n",
       "</style>\n",
       "<table border=\"1\" class=\"dataframe\">\n",
       "  <thead>\n",
       "    <tr style=\"text-align: right;\">\n",
       "      <th></th>\n",
       "      <th>ensembl_id</th>\n",
       "      <th>gene_name</th>\n",
       "      <th>gene_biotype</th>\n",
       "      <th>log2FoldChange</th>\n",
       "      <th>pvalue</th>\n",
       "      <th>padj</th>\n",
       "      <th>Regulation</th>\n",
       "      <th>o_ensembl_id</th>\n",
       "      <th>o_entrez_id</th>\n",
       "      <th>o_hgnc_id</th>\n",
       "    </tr>\n",
       "  </thead>\n",
       "  <tbody>\n",
       "    <tr>\n",
       "      <th>0</th>\n",
       "      <td>ENSG00000138829</td>\n",
       "      <td>FBN2</td>\n",
       "      <td>protein_coding</td>\n",
       "      <td>4.147393</td>\n",
       "      <td>1.090000e-74</td>\n",
       "      <td>1.810000e-70</td>\n",
       "      <td>Upregulated</td>\n",
       "      <td>ENSEMBL:ENSG00000138829</td>\n",
       "      <td>NCBIGene:2201</td>\n",
       "      <td>HGNC:3604</td>\n",
       "    </tr>\n",
       "    <tr>\n",
       "      <th>1</th>\n",
       "      <td>ENSG00000169515</td>\n",
       "      <td>CCDC8</td>\n",
       "      <td>protein_coding</td>\n",
       "      <td>5.233138</td>\n",
       "      <td>1.330000e-53</td>\n",
       "      <td>5.520000e-50</td>\n",
       "      <td>Upregulated</td>\n",
       "      <td>ENSEMBL:ENSG00000169515</td>\n",
       "      <td>NCBIGene:83987</td>\n",
       "      <td>HGNC:25367</td>\n",
       "    </tr>\n",
       "  </tbody>\n",
       "</table>\n",
       "</div>"
      ],
      "text/plain": [
       "        ensembl_id gene_name    gene_biotype  log2FoldChange        pvalue  \\\n",
       "0  ENSG00000138829      FBN2  protein_coding        4.147393  1.090000e-74   \n",
       "1  ENSG00000169515     CCDC8  protein_coding        5.233138  1.330000e-53   \n",
       "\n",
       "           padj   Regulation             o_ensembl_id     o_entrez_id  \\\n",
       "0  1.810000e-70  Upregulated  ENSEMBL:ENSG00000138829   NCBIGene:2201   \n",
       "1  5.520000e-50  Upregulated  ENSEMBL:ENSG00000169515  NCBIGene:83987   \n",
       "\n",
       "    o_hgnc_id  \n",
       "0   HGNC:3604  \n",
       "1  HGNC:25367  "
      ]
     },
     "execution_count": 13,
     "metadata": {},
     "output_type": "execute_result"
    }
   ],
   "source": [
    "# Map ensembl to hgnc\n",
    "freeze['o_hgnc_id'] = freeze.ensembl_id.apply(lambda x: ensembl2hgnc_dict[x])\n",
    "freeze.head(2)"
   ]
  },
  {
   "cell_type": "markdown",
   "metadata": {},
   "source": [
    "### save edges"
   ]
  },
  {
   "cell_type": "code",
   "execution_count": 14,
   "metadata": {},
   "outputs": [
    {
     "data": {
      "text/html": [
       "<div>\n",
       "<style scoped>\n",
       "    .dataframe tbody tr th:only-of-type {\n",
       "        vertical-align: middle;\n",
       "    }\n",
       "\n",
       "    .dataframe tbody tr th {\n",
       "        vertical-align: top;\n",
       "    }\n",
       "\n",
       "    .dataframe thead th {\n",
       "        text-align: right;\n",
       "    }\n",
       "</style>\n",
       "<table border=\"1\" class=\"dataframe\">\n",
       "  <thead>\n",
       "    <tr style=\"text-align: right;\">\n",
       "      <th></th>\n",
       "      <th>flybase_id</th>\n",
       "      <th>symbol</th>\n",
       "      <th>log2FoldChange</th>\n",
       "      <th>pvalue</th>\n",
       "      <th>padj</th>\n",
       "      <th>regulation</th>\n",
       "      <th>source</th>\n",
       "      <th>subject_id</th>\n",
       "      <th>subject_label</th>\n",
       "      <th>property_id</th>\n",
       "      <th>property_label</th>\n",
       "      <th>reference_id</th>\n",
       "      <th>object_id</th>\n",
       "    </tr>\n",
       "  </thead>\n",
       "  <tbody>\n",
       "    <tr>\n",
       "      <th>0</th>\n",
       "      <td>FBgn0035904</td>\n",
       "      <td>GstO3</td>\n",
       "      <td>0.576871</td>\n",
       "      <td>2.130000e-08</td>\n",
       "      <td>0.000002</td>\n",
       "      <td>Upregulated</td>\n",
       "      <td>Chow</td>\n",
       "      <td>FlyBase:FBgn0033050</td>\n",
       "      <td>Pngl</td>\n",
       "      <td>RO:0002434</td>\n",
       "      <td>interacts with</td>\n",
       "      <td>PMID:29346549</td>\n",
       "      <td>FlyBase:FBgn0035904</td>\n",
       "    </tr>\n",
       "    <tr>\n",
       "      <th>1</th>\n",
       "      <td>FBgn0051469</td>\n",
       "      <td>CG31469</td>\n",
       "      <td>0.575625</td>\n",
       "      <td>2.022103e-03</td>\n",
       "      <td>0.035791</td>\n",
       "      <td>Upregulated</td>\n",
       "      <td>Chow</td>\n",
       "      <td>FlyBase:FBgn0033050</td>\n",
       "      <td>Pngl</td>\n",
       "      <td>RO:0002434</td>\n",
       "      <td>interacts with</td>\n",
       "      <td>PMID:29346549</td>\n",
       "      <td>FlyBase:FBgn0051469</td>\n",
       "    </tr>\n",
       "  </tbody>\n",
       "</table>\n",
       "</div>"
      ],
      "text/plain": [
       "    flybase_id   symbol  log2FoldChange        pvalue      padj   regulation  \\\n",
       "0  FBgn0035904    GstO3        0.576871  2.130000e-08  0.000002  Upregulated   \n",
       "1  FBgn0051469  CG31469        0.575625  2.022103e-03  0.035791  Upregulated   \n",
       "\n",
       "  source           subject_id subject_label property_id  property_label  \\\n",
       "0   Chow  FlyBase:FBgn0033050          Pngl  RO:0002434  interacts with   \n",
       "1   Chow  FlyBase:FBgn0033050          Pngl  RO:0002434  interacts with   \n",
       "\n",
       "    reference_id            object_id  \n",
       "0  PMID:29346549  FlyBase:FBgn0035904  \n",
       "1  PMID:29346549  FlyBase:FBgn0051469  "
      ]
     },
     "execution_count": 14,
     "metadata": {},
     "output_type": "execute_result"
    }
   ],
   "source": [
    "chow = ( chow\n",
    "            .rename(columns={'FlyBase ID': 'flybase_id', 'Symbol': 'symbol', 'Regulation': 'regulation'})\n",
    "            .assign(source = 'Chow')\n",
    "            .assign(subject_id = 'FlyBase:FBgn0033050')\n",
    "            .assign(subject_label = 'Pngl')\n",
    "            .assign(property_id = 'RO:0002434')\n",
    "            .assign(property_label = 'interacts with')\n",
    "            .assign(reference_id = 'PMID:29346549')\n",
    ")\n",
    "chow['object_id'] = chow.flybase_id.apply(lambda x: 'FlyBase:' + str(x))\n",
    "chow.to_csv('./ngly1-fly-chow-2018/out/chow_fc1.5_fdr5_transcriptome_fly_edges.csv', index=False)\n",
    "chow.head(2)"
   ]
  },
  {
   "cell_type": "code",
   "execution_count": 15,
   "metadata": {},
   "outputs": [
    {
     "data": {
      "text/html": [
       "<div>\n",
       "<style scoped>\n",
       "    .dataframe tbody tr th:only-of-type {\n",
       "        vertical-align: middle;\n",
       "    }\n",
       "\n",
       "    .dataframe tbody tr th {\n",
       "        vertical-align: top;\n",
       "    }\n",
       "\n",
       "    .dataframe thead th {\n",
       "        text-align: right;\n",
       "    }\n",
       "</style>\n",
       "<table border=\"1\" class=\"dataframe\">\n",
       "  <thead>\n",
       "    <tr style=\"text-align: right;\">\n",
       "      <th></th>\n",
       "      <th>ensembl_id</th>\n",
       "      <th>symbol</th>\n",
       "      <th>gene_biotype</th>\n",
       "      <th>log2FoldChange</th>\n",
       "      <th>pvalue</th>\n",
       "      <th>padj</th>\n",
       "      <th>regulation</th>\n",
       "      <th>o_ensembl_id</th>\n",
       "      <th>o_entrez_id</th>\n",
       "      <th>o_hgnc_id</th>\n",
       "      <th>source</th>\n",
       "      <th>s_hgnc_id</th>\n",
       "      <th>subject_label</th>\n",
       "      <th>s_entrez_id</th>\n",
       "      <th>property_id</th>\n",
       "      <th>property_label</th>\n",
       "      <th>reference_id</th>\n",
       "    </tr>\n",
       "  </thead>\n",
       "  <tbody>\n",
       "    <tr>\n",
       "      <th>0</th>\n",
       "      <td>ENSG00000138829</td>\n",
       "      <td>FBN2</td>\n",
       "      <td>protein_coding</td>\n",
       "      <td>4.147393</td>\n",
       "      <td>1.090000e-74</td>\n",
       "      <td>1.810000e-70</td>\n",
       "      <td>Upregulated</td>\n",
       "      <td>ENSEMBL:ENSG00000138829</td>\n",
       "      <td>NCBIGene:2201</td>\n",
       "      <td>HGNC:3604</td>\n",
       "      <td>Freeze</td>\n",
       "      <td>HGNC:17646</td>\n",
       "      <td>NGLY1</td>\n",
       "      <td>NCBIGene:55768</td>\n",
       "      <td>RO:0002434</td>\n",
       "      <td>interacts with</td>\n",
       "      <td>NA</td>\n",
       "    </tr>\n",
       "    <tr>\n",
       "      <th>1</th>\n",
       "      <td>ENSG00000169515</td>\n",
       "      <td>CCDC8</td>\n",
       "      <td>protein_coding</td>\n",
       "      <td>5.233138</td>\n",
       "      <td>1.330000e-53</td>\n",
       "      <td>5.520000e-50</td>\n",
       "      <td>Upregulated</td>\n",
       "      <td>ENSEMBL:ENSG00000169515</td>\n",
       "      <td>NCBIGene:83987</td>\n",
       "      <td>HGNC:25367</td>\n",
       "      <td>Freeze</td>\n",
       "      <td>HGNC:17646</td>\n",
       "      <td>NGLY1</td>\n",
       "      <td>NCBIGene:55768</td>\n",
       "      <td>RO:0002434</td>\n",
       "      <td>interacts with</td>\n",
       "      <td>NA</td>\n",
       "    </tr>\n",
       "  </tbody>\n",
       "</table>\n",
       "</div>"
      ],
      "text/plain": [
       "        ensembl_id symbol    gene_biotype  log2FoldChange        pvalue  \\\n",
       "0  ENSG00000138829   FBN2  protein_coding        4.147393  1.090000e-74   \n",
       "1  ENSG00000169515  CCDC8  protein_coding        5.233138  1.330000e-53   \n",
       "\n",
       "           padj   regulation             o_ensembl_id     o_entrez_id  \\\n",
       "0  1.810000e-70  Upregulated  ENSEMBL:ENSG00000138829   NCBIGene:2201   \n",
       "1  5.520000e-50  Upregulated  ENSEMBL:ENSG00000169515  NCBIGene:83987   \n",
       "\n",
       "    o_hgnc_id  source   s_hgnc_id subject_label     s_entrez_id property_id  \\\n",
       "0   HGNC:3604  Freeze  HGNC:17646         NGLY1  NCBIGene:55768  RO:0002434   \n",
       "1  HGNC:25367  Freeze  HGNC:17646         NGLY1  NCBIGene:55768  RO:0002434   \n",
       "\n",
       "   property_label reference_id  \n",
       "0  interacts with           NA  \n",
       "1  interacts with           NA  "
      ]
     },
     "execution_count": 15,
     "metadata": {},
     "output_type": "execute_result"
    }
   ],
   "source": [
    "freeze = ( freeze\n",
    "            .rename(columns={'gene_name': 'symbol', 'Regulation': 'regulation'})\n",
    "            .assign(source = 'Freeze')\n",
    "            .assign(s_hgnc_id = 'HGNC:17646')\n",
    "            .assign(subject_label = 'NGLY1')\n",
    "            .assign(s_entrez_id = 'NCBIGene:55768') \n",
    "            .assign(property_id = 'RO:0002434')\n",
    "            .assign(property_label = 'interacts with')\n",
    "            .assign(reference_id = 'NA')\n",
    ")\n",
    "freeze.to_csv('./ngly1-human-freezelab-2018/out/freeze_all_transcriptome_human_edges.csv', index=False)\n",
    "freeze.head(2)"
   ]
  },
  {
   "cell_type": "markdown",
   "metadata": {},
   "source": [
    "### Prepare Regulation edges to build the graph\n",
    "* concat chow and freeze\n",
    "* give graph format\n",
    "* build statements and concepts file\n",
    "* concat with graph (edges and nodes): first curated > monarch > regulation\n",
    "* drop duplicates ((edges/nodes) rows, concepts\n",
    "* save graph\n",
    "* format for neo4j\n",
    "* save neo4j files"
   ]
  },
  {
   "cell_type": "markdown",
   "metadata": {},
   "source": [
    "#### concat chow and freeze"
   ]
  },
  {
   "cell_type": "code",
   "execution_count": 16,
   "metadata": {},
   "outputs": [],
   "source": [
    "import pandas as pd"
   ]
  },
  {
   "cell_type": "code",
   "execution_count": 17,
   "metadata": {},
   "outputs": [
    {
     "name": "stdout",
     "output_type": "stream",
     "text": [
      "(386, 13)\n",
      "Index(['flybase_id', 'symbol', 'log2FoldChange', 'pvalue', 'padj',\n",
      "       'regulation', 'source', 'subject_id', 'subject_label', 'property_id',\n",
      "       'property_label', 'reference_id', 'object_id'],\n",
      "      dtype='object')\n"
     ]
    },
    {
     "data": {
      "text/html": [
       "<div>\n",
       "<style scoped>\n",
       "    .dataframe tbody tr th:only-of-type {\n",
       "        vertical-align: middle;\n",
       "    }\n",
       "\n",
       "    .dataframe tbody tr th {\n",
       "        vertical-align: top;\n",
       "    }\n",
       "\n",
       "    .dataframe thead th {\n",
       "        text-align: right;\n",
       "    }\n",
       "</style>\n",
       "<table border=\"1\" class=\"dataframe\">\n",
       "  <thead>\n",
       "    <tr style=\"text-align: right;\">\n",
       "      <th></th>\n",
       "      <th>flybase_id</th>\n",
       "      <th>symbol</th>\n",
       "      <th>log2FoldChange</th>\n",
       "      <th>pvalue</th>\n",
       "      <th>padj</th>\n",
       "      <th>regulation</th>\n",
       "      <th>source</th>\n",
       "      <th>subject_id</th>\n",
       "      <th>subject_label</th>\n",
       "      <th>property_id</th>\n",
       "      <th>property_label</th>\n",
       "      <th>reference_id</th>\n",
       "      <th>object_id</th>\n",
       "    </tr>\n",
       "  </thead>\n",
       "  <tbody>\n",
       "    <tr>\n",
       "      <th>0</th>\n",
       "      <td>FBgn0035904</td>\n",
       "      <td>GstO3</td>\n",
       "      <td>0.576871</td>\n",
       "      <td>2.130000e-08</td>\n",
       "      <td>0.000002</td>\n",
       "      <td>Upregulated</td>\n",
       "      <td>Chow</td>\n",
       "      <td>FlyBase:FBgn0033050</td>\n",
       "      <td>Pngl</td>\n",
       "      <td>RO:0002434</td>\n",
       "      <td>interacts with</td>\n",
       "      <td>PMID:29346549</td>\n",
       "      <td>FlyBase:FBgn0035904</td>\n",
       "    </tr>\n",
       "    <tr>\n",
       "      <th>1</th>\n",
       "      <td>FBgn0051469</td>\n",
       "      <td>CG31469</td>\n",
       "      <td>0.575625</td>\n",
       "      <td>2.022103e-03</td>\n",
       "      <td>0.035791</td>\n",
       "      <td>Upregulated</td>\n",
       "      <td>Chow</td>\n",
       "      <td>FlyBase:FBgn0033050</td>\n",
       "      <td>Pngl</td>\n",
       "      <td>RO:0002434</td>\n",
       "      <td>interacts with</td>\n",
       "      <td>PMID:29346549</td>\n",
       "      <td>FlyBase:FBgn0051469</td>\n",
       "    </tr>\n",
       "  </tbody>\n",
       "</table>\n",
       "</div>"
      ],
      "text/plain": [
       "    flybase_id   symbol  log2FoldChange        pvalue      padj   regulation  \\\n",
       "0  FBgn0035904    GstO3        0.576871  2.130000e-08  0.000002  Upregulated   \n",
       "1  FBgn0051469  CG31469        0.575625  2.022103e-03  0.035791  Upregulated   \n",
       "\n",
       "  source           subject_id subject_label property_id  property_label  \\\n",
       "0   Chow  FlyBase:FBgn0033050          Pngl  RO:0002434  interacts with   \n",
       "1   Chow  FlyBase:FBgn0033050          Pngl  RO:0002434  interacts with   \n",
       "\n",
       "    reference_id            object_id  \n",
       "0  PMID:29346549  FlyBase:FBgn0035904  \n",
       "1  PMID:29346549  FlyBase:FBgn0051469  "
      ]
     },
     "execution_count": 17,
     "metadata": {},
     "output_type": "execute_result"
    }
   ],
   "source": [
    "# chow \n",
    "chow = pd.read_csv('./ngly1-fly-chow-2018/out/chow_fc1.5_fdr5_transcriptome_fly_edges.csv')\n",
    "print(chow.shape)\n",
    "print(chow.columns)\n",
    "chow.head(2)"
   ]
  },
  {
   "cell_type": "code",
   "execution_count": 18,
   "metadata": {
    "scrolled": true
   },
   "outputs": [
    {
     "name": "stdout",
     "output_type": "stream",
     "text": [
      "(1906, 17)\n",
      "Index(['ensembl_id', 'symbol', 'gene_biotype', 'log2FoldChange', 'pvalue',\n",
      "       'padj', 'regulation', 'o_ensembl_id', 'o_entrez_id', 'o_hgnc_id',\n",
      "       'source', 's_hgnc_id', 'subject_label', 's_entrez_id', 'property_id',\n",
      "       'property_label', 'reference_id'],\n",
      "      dtype='object')\n"
     ]
    },
    {
     "data": {
      "text/html": [
       "<div>\n",
       "<style scoped>\n",
       "    .dataframe tbody tr th:only-of-type {\n",
       "        vertical-align: middle;\n",
       "    }\n",
       "\n",
       "    .dataframe tbody tr th {\n",
       "        vertical-align: top;\n",
       "    }\n",
       "\n",
       "    .dataframe thead th {\n",
       "        text-align: right;\n",
       "    }\n",
       "</style>\n",
       "<table border=\"1\" class=\"dataframe\">\n",
       "  <thead>\n",
       "    <tr style=\"text-align: right;\">\n",
       "      <th></th>\n",
       "      <th>ensembl_id</th>\n",
       "      <th>symbol</th>\n",
       "      <th>gene_biotype</th>\n",
       "      <th>log2FoldChange</th>\n",
       "      <th>pvalue</th>\n",
       "      <th>padj</th>\n",
       "      <th>regulation</th>\n",
       "      <th>o_ensembl_id</th>\n",
       "      <th>o_entrez_id</th>\n",
       "      <th>o_hgnc_id</th>\n",
       "      <th>source</th>\n",
       "      <th>s_hgnc_id</th>\n",
       "      <th>subject_label</th>\n",
       "      <th>s_entrez_id</th>\n",
       "      <th>property_id</th>\n",
       "      <th>property_label</th>\n",
       "      <th>reference_id</th>\n",
       "    </tr>\n",
       "  </thead>\n",
       "  <tbody>\n",
       "    <tr>\n",
       "      <th>0</th>\n",
       "      <td>ENSG00000138829</td>\n",
       "      <td>FBN2</td>\n",
       "      <td>protein_coding</td>\n",
       "      <td>4.147393</td>\n",
       "      <td>1.090000e-74</td>\n",
       "      <td>1.810000e-70</td>\n",
       "      <td>Upregulated</td>\n",
       "      <td>ENSEMBL:ENSG00000138829</td>\n",
       "      <td>NCBIGene:2201</td>\n",
       "      <td>HGNC:3604</td>\n",
       "      <td>Freeze</td>\n",
       "      <td>HGNC:17646</td>\n",
       "      <td>NGLY1</td>\n",
       "      <td>NCBIGene:55768</td>\n",
       "      <td>RO:0002434</td>\n",
       "      <td>interacts with</td>\n",
       "      <td>NaN</td>\n",
       "    </tr>\n",
       "    <tr>\n",
       "      <th>1</th>\n",
       "      <td>ENSG00000169515</td>\n",
       "      <td>CCDC8</td>\n",
       "      <td>protein_coding</td>\n",
       "      <td>5.233138</td>\n",
       "      <td>1.330000e-53</td>\n",
       "      <td>5.520000e-50</td>\n",
       "      <td>Upregulated</td>\n",
       "      <td>ENSEMBL:ENSG00000169515</td>\n",
       "      <td>NCBIGene:83987</td>\n",
       "      <td>HGNC:25367</td>\n",
       "      <td>Freeze</td>\n",
       "      <td>HGNC:17646</td>\n",
       "      <td>NGLY1</td>\n",
       "      <td>NCBIGene:55768</td>\n",
       "      <td>RO:0002434</td>\n",
       "      <td>interacts with</td>\n",
       "      <td>NaN</td>\n",
       "    </tr>\n",
       "  </tbody>\n",
       "</table>\n",
       "</div>"
      ],
      "text/plain": [
       "        ensembl_id symbol    gene_biotype  log2FoldChange        pvalue  \\\n",
       "0  ENSG00000138829   FBN2  protein_coding        4.147393  1.090000e-74   \n",
       "1  ENSG00000169515  CCDC8  protein_coding        5.233138  1.330000e-53   \n",
       "\n",
       "           padj   regulation             o_ensembl_id     o_entrez_id  \\\n",
       "0  1.810000e-70  Upregulated  ENSEMBL:ENSG00000138829   NCBIGene:2201   \n",
       "1  5.520000e-50  Upregulated  ENSEMBL:ENSG00000169515  NCBIGene:83987   \n",
       "\n",
       "    o_hgnc_id  source   s_hgnc_id subject_label     s_entrez_id property_id  \\\n",
       "0   HGNC:3604  Freeze  HGNC:17646         NGLY1  NCBIGene:55768  RO:0002434   \n",
       "1  HGNC:25367  Freeze  HGNC:17646         NGLY1  NCBIGene:55768  RO:0002434   \n",
       "\n",
       "   property_label  reference_id  \n",
       "0  interacts with           NaN  \n",
       "1  interacts with           NaN  "
      ]
     },
     "execution_count": 18,
     "metadata": {},
     "output_type": "execute_result"
    }
   ],
   "source": [
    "# freeze\n",
    "freeze = pd.read_csv('./ngly1-human-freezelab-2018/out/freeze_all_transcriptome_human_edges.csv')\n",
    "print(freeze.shape)\n",
    "print(freeze.columns)\n",
    "freeze.head(2)"
   ]
  },
  {
   "cell_type": "markdown",
   "metadata": {},
   "source": [
    "#### select gene ID"
   ]
  },
  {
   "cell_type": "code",
   "execution_count": 19,
   "metadata": {},
   "outputs": [
    {
     "name": "stdout",
     "output_type": "stream",
     "text": [
      "(386, 12)\n",
      "Index(['object_label', 'log2FoldChange', 'pvalue', 'fdr', 'regulation',\n",
      "       'source', 'subject_id', 'subject_label', 'property_id',\n",
      "       'property_label', 'reference_id', 'object_id'],\n",
      "      dtype='object')\n",
      "(1906, 12)\n",
      "Index(['object_label', 'log2FoldChange', 'pvalue', 'fdr', 'regulation',\n",
      "       'object_id', 'source', 'subject_id', 'subject_label', 'property_id',\n",
      "       'property_label', 'reference_id'],\n",
      "      dtype='object')\n"
     ]
    }
   ],
   "source": [
    "# select and rename key columns\n",
    "chow = (chow\n",
    "           [['symbol', 'log2FoldChange', 'pvalue', 'padj',\n",
    "       'regulation', 'source', 'subject_id', 'subject_label', 'property_id',\n",
    "       'property_label', 'reference_id', 'object_id']]\n",
    "            .rename(columns={'symbol': 'object_label','padj':'fdr'})\n",
    "        \n",
    "       )\n",
    "print(chow.shape)\n",
    "print(chow.columns)\n",
    "\n",
    "freeze = (freeze\n",
    "             [['symbol', 'log2FoldChange', 'pvalue',\n",
    "       'padj', 'regulation','o_hgnc_id',\n",
    "       'source', 's_hgnc_id', 'subject_label', 'property_id',\n",
    "       'property_label', 'reference_id']]\n",
    "            .rename(columns={'symbol': 'object_label','padj':'fdr','s_hgnc_id': 'subject_id','o_hgnc_id': 'object_id'})\n",
    "                  \n",
    "         )\n",
    "print(freeze.shape)\n",
    "print(freeze.columns)"
   ]
  },
  {
   "cell_type": "code",
   "execution_count": 20,
   "metadata": {},
   "outputs": [
    {
     "name": "stdout",
     "output_type": "stream",
     "text": [
      "(386, 12)\n",
      "Index(['subject_id', 'subject_label', 'property_id', 'property_label',\n",
      "       'object_id', 'object_label', 'log2FoldChange', 'pvalue', 'fdr',\n",
      "       'regulation', 'source', 'reference_id'],\n",
      "      dtype='object')\n",
      "(1906, 12)\n",
      "Index(['subject_id', 'subject_label', 'property_id', 'property_label',\n",
      "       'object_id', 'object_label', 'log2FoldChange', 'pvalue', 'fdr',\n",
      "       'regulation', 'source', 'reference_id'],\n",
      "      dtype='object')\n"
     ]
    }
   ],
   "source": [
    "# reorder columns\n",
    "chow = chow[['subject_id', 'subject_label', 'property_id',\n",
    "       'property_label', 'object_id', 'object_label', 'log2FoldChange', 'pvalue', 'fdr', 'regulation',\n",
    "       'source', 'reference_id']]\n",
    "print(chow.shape)\n",
    "print(chow.columns)\n",
    "freeze = freeze[['subject_id', 'subject_label', 'property_id',\n",
    "       'property_label', 'object_id', 'object_label', 'log2FoldChange', 'pvalue', 'fdr', 'regulation',\n",
    "       'source', 'reference_id']]\n",
    "print(freeze.shape)\n",
    "print(freeze.columns)"
   ]
  },
  {
   "cell_type": "code",
   "execution_count": 21,
   "metadata": {},
   "outputs": [
    {
     "name": "stdout",
     "output_type": "stream",
     "text": [
      "(2292, 12)\n",
      "0\n",
      "2292\n"
     ]
    }
   ],
   "source": [
    "# concat\n",
    "edges = pd.concat([chow,freeze],ignore_index=True)\n",
    "print(edges.shape)\n",
    "\n",
    "# see duplicates\n",
    "print(len(edges[edges.duplicated(keep=False)]))\n",
    "\n",
    "# drop duplicates\n",
    "edges.drop_duplicates(inplace=True)\n",
    "print(len(edges))"
   ]
  },
  {
   "cell_type": "markdown",
   "metadata": {},
   "source": [
    "#### build edges and nodes file\n",
    "file format: csv\n",
    "fill null wiht 'NA'. can be done with python function before saving\n",
    "##### edges\n",
    "1. `subject_id` str curie required\n",
    "2. `object_id` str curie required\n",
    "3. `property_id` str curie NA\n",
    "4. `property_label` str NA\n",
    "5. `property_description` str NA\n",
    "6. `property_uri` str NA\n",
    "7. `reference_uri` str NA\n",
    "8. `reference_supporting_text` str NA\n",
    "9. `reference_date` str NA | yyyy-mm-dd"
   ]
  },
  {
   "cell_type": "code",
   "execution_count": 22,
   "metadata": {},
   "outputs": [],
   "source": [
    "import os\n",
    "if not os.path.exists('./graph'): os.makedirs('./graph')"
   ]
  },
  {
   "cell_type": "code",
   "execution_count": 23,
   "metadata": {},
   "outputs": [
    {
     "data": {
      "text/html": [
       "<div>\n",
       "<style scoped>\n",
       "    .dataframe tbody tr th:only-of-type {\n",
       "        vertical-align: middle;\n",
       "    }\n",
       "\n",
       "    .dataframe tbody tr th {\n",
       "        vertical-align: top;\n",
       "    }\n",
       "\n",
       "    .dataframe thead th {\n",
       "        text-align: right;\n",
       "    }\n",
       "</style>\n",
       "<table border=\"1\" class=\"dataframe\">\n",
       "  <thead>\n",
       "    <tr style=\"text-align: right;\">\n",
       "      <th></th>\n",
       "      <th>subject_id</th>\n",
       "      <th>subject_label</th>\n",
       "      <th>property_id</th>\n",
       "      <th>property_label</th>\n",
       "      <th>object_id</th>\n",
       "      <th>object_label</th>\n",
       "      <th>log2FoldChange</th>\n",
       "      <th>pvalue</th>\n",
       "      <th>fdr</th>\n",
       "      <th>regulation</th>\n",
       "      <th>source</th>\n",
       "      <th>reference_id</th>\n",
       "    </tr>\n",
       "  </thead>\n",
       "  <tbody>\n",
       "    <tr>\n",
       "      <th>0</th>\n",
       "      <td>FlyBase:FBgn0033050</td>\n",
       "      <td>Pngl</td>\n",
       "      <td>RO:0002434</td>\n",
       "      <td>interacts with</td>\n",
       "      <td>FlyBase:FBgn0035904</td>\n",
       "      <td>GstO3</td>\n",
       "      <td>0.576871</td>\n",
       "      <td>2.130000e-08</td>\n",
       "      <td>0.000002</td>\n",
       "      <td>Upregulated</td>\n",
       "      <td>Chow</td>\n",
       "      <td>PMID:29346549</td>\n",
       "    </tr>\n",
       "    <tr>\n",
       "      <th>1</th>\n",
       "      <td>FlyBase:FBgn0033050</td>\n",
       "      <td>Pngl</td>\n",
       "      <td>RO:0002434</td>\n",
       "      <td>interacts with</td>\n",
       "      <td>FlyBase:FBgn0051469</td>\n",
       "      <td>CG31469</td>\n",
       "      <td>0.575625</td>\n",
       "      <td>2.022103e-03</td>\n",
       "      <td>0.035791</td>\n",
       "      <td>Upregulated</td>\n",
       "      <td>Chow</td>\n",
       "      <td>PMID:29346549</td>\n",
       "    </tr>\n",
       "  </tbody>\n",
       "</table>\n",
       "</div>"
      ],
      "text/plain": [
       "            subject_id subject_label property_id  property_label  \\\n",
       "0  FlyBase:FBgn0033050          Pngl  RO:0002434  interacts with   \n",
       "1  FlyBase:FBgn0033050          Pngl  RO:0002434  interacts with   \n",
       "\n",
       "             object_id object_label  log2FoldChange        pvalue       fdr  \\\n",
       "0  FlyBase:FBgn0035904        GstO3        0.576871  2.130000e-08  0.000002   \n",
       "1  FlyBase:FBgn0051469      CG31469        0.575625  2.022103e-03  0.035791   \n",
       "\n",
       "    regulation source   reference_id  \n",
       "0  Upregulated   Chow  PMID:29346549  \n",
       "1  Upregulated   Chow  PMID:29346549  "
      ]
     },
     "execution_count": 23,
     "metadata": {},
     "output_type": "execute_result"
    }
   ],
   "source": [
    "edges.head(2)"
   ]
  },
  {
   "cell_type": "code",
   "execution_count": 24,
   "metadata": {},
   "outputs": [
    {
     "name": "stdout",
     "output_type": "stream",
     "text": [
      "Index(['subject_id', 'subject_label', 'property_id', 'property_label',\n",
      "       'object_id', 'object_label', 'log2FoldChange', 'pvalue', 'fdr',\n",
      "       'regulation', 'source', 'reference_id'],\n",
      "      dtype='object')\n"
     ]
    }
   ],
   "source": [
    "# give graph format\n",
    "print(edges.columns)\n",
    "curie_dct = {\n",
    "    'ro': 'http://purl.obolibrary.org/obo/',\n",
    "    'pmid': 'https://www.ncbi.nlm.nih.gov/pubmed/',\n",
    "    'encode': 'https://www.encodeproject.org/search/?searchTerm='\n",
    "}\n",
    "\n",
    "edges_l = list()\n",
    "for i, row in edges.iterrows():\n",
    "    # property uri: http://purl.obolibrary.org/obo/RO_0002434\n",
    "    property_uri = 'NA'\n",
    "    if ':' in row['property_id']:\n",
    "        property_uri = curie_dct[row['property_id'].split(':')[0].lower()]+row['property_id'].replace(':','_')       \n",
    "    \n",
    "    # reference_uri: https://www.ncbi.nlm.nih.gov/pubmed/25416956\n",
    "    # capture nan or None values, i.e. all possible nulls\n",
    "    if (isinstance(row['reference_id'], float) and str(row['reference_id']).lower() == 'nan') or row['reference_id'] is None:\n",
    "        row['reference_id'] = 'NA'\n",
    "    if ':' not in row['reference_id']:\n",
    "        reference_uri = row['reference_id']\n",
    "    else:\n",
    "        try:\n",
    "            reference_uri = curie_dct[row['reference_id'].split(':')[0].lower()]+row['reference_id'].split(':')[1]\n",
    "        except KeyError:\n",
    "            reference_uri = row['reference_id']\n",
    "            print('There is a reference curie with and unrecognized namespace:', row['reference_id'])\n",
    "    # build list of edges as list of dict, i.e a df, where a dict is an edge        \n",
    "    edge = dict()\n",
    "    edge['subject_id'] = row['subject_id']\n",
    "    edge['object_id'] = row['object_id']\n",
    "    edge['property_id'] = row['property_id']\n",
    "    edge['property_label'] = row['property_label']\n",
    "    edge['property_description'] = 'NA'\n",
    "    edge['property_uri'] = property_uri\n",
    "    edge['reference_uri'] = reference_uri\n",
    "    edge['reference_supporting_text'] = 'To understand how loss of NGLY1 contributes to disease, we developed a Drosophila model of NGLY1 deficiency. Loss of NGLY1 function resulted in developmental delay and lethality. We used RNAseq to determine which processes are misregulated in the absence of NGLY1.' if row['source'] == 'Chow' else 'This edge comes from the RNA-seq profile dataset extracted by the Freeze Lab 2018.'\n",
    "    edge['reference_date'] = '2018-03-15' if row['source'] == 'Chow' else 'NA'\n",
    "    edges_l.append(edge)\n",
    "\n",
    "# save edges file\n",
    "pd.DataFrame(edges_l).fillna('NA').to_csv('./graph/rna_edges.csv', index=False)"
   ]
  },
  {
   "cell_type": "markdown",
   "metadata": {},
   "source": [
    "##### nodes\n",
    "1. `id` str curie required\n",
    "2. `semantic_groups` str required\n",
    "3. `preflabel` str label required\n",
    "4. `synonyms` str NA\n",
    "5. `description` str NA\n",
    "6. **new** `name` str NA"
   ]
  },
  {
   "cell_type": "code",
   "execution_count": 25,
   "metadata": {},
   "outputs": [
    {
     "data": {
      "text/plain": [
       "2293"
      ]
     },
     "execution_count": 25,
     "metadata": {},
     "output_type": "execute_result"
    }
   ],
   "source": [
    "# retrieve node attributes from biothings and build dictionary\n",
    "# from biothings we retrieve: name (new attribute for short description), alias (synonyms), summary (description)\n",
    "# symbols in this case come from the original source. otherwise are gonna be retrieved from biothings as well.\n",
    "# build concept dict: {id:symbol}\n",
    "concept_dct = dict()\n",
    "for i, row in edges.iterrows():\n",
    "    # node for subject\n",
    "    concept_dct[row['subject_id']] = {'preflabel': row['subject_label']}\n",
    "    # node for object\n",
    "    concept_dct[row['object_id']] = {'preflabel': row['object_label']}\n",
    "len(concept_dct.keys())"
   ]
  },
  {
   "cell_type": "code",
   "execution_count": 26,
   "metadata": {},
   "outputs": [
    {
     "name": "stdout",
     "output_type": "stream",
     "text": [
      "['Pngl', 'GstO3', 'CG31469', 'LpR2', 'TwdlG']\n"
     ]
    },
    {
     "data": {
      "text/plain": [
       "2293"
      ]
     },
     "execution_count": 26,
     "metadata": {},
     "output_type": "execute_result"
    }
   ],
   "source": [
    "# biothings api + dictionaries\n",
    "# input list for api: since by id we have flybase, hgnc/entrez or ensembl, i am gonna use symbol\n",
    "symbols = list()\n",
    "for idx,symbol in concept_dct.items():\n",
    "    #id = key.split(':')[1] if ':' in key else key\n",
    "    symbols.append(symbol['preflabel'])\n",
    "    \n",
    "print(symbols[0:5])    \n",
    "len(symbols)"
   ]
  },
  {
   "cell_type": "code",
   "execution_count": 27,
   "metadata": {},
   "outputs": [
    {
     "name": "stdout",
     "output_type": "stream",
     "text": [
      "querying 1-1000...done.\n",
      "querying 1001-2000...done.\n",
      "querying 2001-2293...done.\n",
      "Finished.\n",
      "1 input query terms found dup hits:\n",
      "\t[('Metazoa_SRP', 2)]\n",
      "90 input query terms found no hit:\n",
      "\t['J01415.13', 'RP11-54O7.3', 'RP11-77I22.3', 'RP4-788L13.1', 'RP3-410C9.1', 'MIR3687', 'AC124789.1',\n",
      "Pass \"returnall=True\" to return complete lists of duplicate or missing query terms.\n"
     ]
    },
    {
     "data": {
      "text/html": [
       "<div>\n",
       "<style scoped>\n",
       "    .dataframe tbody tr th:only-of-type {\n",
       "        vertical-align: middle;\n",
       "    }\n",
       "\n",
       "    .dataframe tbody tr th {\n",
       "        vertical-align: top;\n",
       "    }\n",
       "\n",
       "    .dataframe thead th {\n",
       "        text-align: right;\n",
       "    }\n",
       "</style>\n",
       "<table border=\"1\" class=\"dataframe\">\n",
       "  <thead>\n",
       "    <tr style=\"text-align: right;\">\n",
       "      <th></th>\n",
       "      <th>_id</th>\n",
       "      <th>_score</th>\n",
       "      <th>alias</th>\n",
       "      <th>name</th>\n",
       "      <th>notfound</th>\n",
       "      <th>summary</th>\n",
       "    </tr>\n",
       "    <tr>\n",
       "      <th>query</th>\n",
       "      <th></th>\n",
       "      <th></th>\n",
       "      <th></th>\n",
       "      <th></th>\n",
       "      <th></th>\n",
       "      <th></th>\n",
       "    </tr>\n",
       "  </thead>\n",
       "  <tbody>\n",
       "    <tr>\n",
       "      <th>Pngl</th>\n",
       "      <td>35527</td>\n",
       "      <td>67.018524</td>\n",
       "      <td>[CG7865, Dmel\\CG7865, PNGase, png1]</td>\n",
       "      <td>PNGase-like</td>\n",
       "      <td>NaN</td>\n",
       "      <td>NaN</td>\n",
       "    </tr>\n",
       "    <tr>\n",
       "      <th>GstO3</th>\n",
       "      <td>732973</td>\n",
       "      <td>71.242300</td>\n",
       "      <td>GSTo</td>\n",
       "      <td>glutathione S-transferase omega 3</td>\n",
       "      <td>NaN</td>\n",
       "      <td>NaN</td>\n",
       "    </tr>\n",
       "  </tbody>\n",
       "</table>\n",
       "</div>"
      ],
      "text/plain": [
       "          _id     _score                                alias  \\\n",
       "query                                                           \n",
       "Pngl    35527  67.018524  [CG7865, Dmel\\CG7865, PNGase, png1]   \n",
       "GstO3  732973  71.242300                                 GSTo   \n",
       "\n",
       "                                    name notfound summary  \n",
       "query                                                      \n",
       "Pngl                         PNGase-like      NaN     NaN  \n",
       "GstO3  glutathione S-transferase omega 3      NaN     NaN  "
      ]
     },
     "execution_count": 27,
     "metadata": {},
     "output_type": "execute_result"
    }
   ],
   "source": [
    "# api call\n",
    "mg = get_client('gene')\n",
    "df = mg.querymany(symbols, scopes = 'symbol,alias', fields='alias,name,summary', size=1, as_dataframe=True)\n",
    "df.head(2)"
   ]
  },
  {
   "cell_type": "code",
   "execution_count": 28,
   "metadata": {},
   "outputs": [
    {
     "name": "stdout",
     "output_type": "stream",
     "text": [
      "(2293, 6)\n",
      "2293\n"
     ]
    }
   ],
   "source": [
    "print(df.shape)\n",
    "print(len(concept_dct.keys()))"
   ]
  },
  {
   "cell_type": "code",
   "execution_count": 29,
   "metadata": {},
   "outputs": [
    {
     "name": "stdout",
     "output_type": "stream",
     "text": [
      "2293\n",
      "2295\n",
      "2293\n"
     ]
    }
   ],
   "source": [
    "# dictionaries {id: {name:, alias:, summary:}}\n",
    "i = 0\n",
    "print(len(concept_dct))\n",
    "for symbol, row in df.iterrows():\n",
    "    # associate concept to symbol\n",
    "    for concept in concept_dct:\n",
    "        if concept_dct[concept]['preflabel'] == symbol:\n",
    "            i += 1\n",
    "            # add attributes\n",
    "            concept_dct[concept]['name'] = row['name']\n",
    "            concept_dct[concept]['synonyms'] = row['alias']\n",
    "            concept_dct[concept]['description'] = row['summary']\n",
    "print(i)\n",
    "print(len(concept_dct))\n",
    "# i is 2295 because there is a symbol that is associated to 2 different concepts"
   ]
  },
  {
   "cell_type": "code",
   "execution_count": 47,
   "metadata": {},
   "outputs": [
    {
     "data": {
      "text/plain": [
       "2293"
      ]
     },
     "execution_count": 47,
     "metadata": {},
     "output_type": "execute_result"
    }
   ],
   "source": [
    "# build a list of nodes as list of dict, i.e a df, where a dict is a node\n",
    "nodes_l = list()\n",
    "for concept in concept_dct:\n",
    "    # node for subject\n",
    "    node = dict()\n",
    "    node['id'] = concept\n",
    "    node['semantic_groups'] = 'GENE'\n",
    "    node['preflabel'] = concept_dct[concept]['preflabel']\n",
    "    node['name'] = concept_dct[concept]['name']\n",
    "    node['synonyms'] = '|'.join(list(concept_dct[concept]['synonyms'])) if isinstance(concept_dct[concept]['synonyms'], list) else concept_dct[concept]['synonyms']\n",
    "    node['description'] = concept_dct[concept]['description']\n",
    "    nodes_l.append(node)\n",
    "    \n",
    "# save nodes file    \n",
    "pd.DataFrame(nodes_l).fillna('NA').to_csv('./graph/rna_nodes.csv', index=False)\n",
    "len(nodes_l)"
   ]
  },
  {
   "cell_type": "code",
   "execution_count": null,
   "metadata": {},
   "outputs": [],
   "source": [
    "len(edges_l)"
   ]
  },
  {
   "cell_type": "code",
   "execution_count": 48,
   "metadata": {},
   "outputs": [
    {
     "data": {
      "text/html": [
       "<div>\n",
       "<style scoped>\n",
       "    .dataframe tbody tr th:only-of-type {\n",
       "        vertical-align: middle;\n",
       "    }\n",
       "\n",
       "    .dataframe tbody tr th {\n",
       "        vertical-align: top;\n",
       "    }\n",
       "\n",
       "    .dataframe thead th {\n",
       "        text-align: right;\n",
       "    }\n",
       "</style>\n",
       "<table border=\"1\" class=\"dataframe\">\n",
       "  <thead>\n",
       "    <tr style=\"text-align: right;\">\n",
       "      <th></th>\n",
       "      <th>object_id</th>\n",
       "      <th>property_description</th>\n",
       "      <th>property_id</th>\n",
       "      <th>property_label</th>\n",
       "      <th>property_uri</th>\n",
       "      <th>reference_date</th>\n",
       "      <th>reference_supporting_text</th>\n",
       "      <th>reference_uri</th>\n",
       "      <th>subject_id</th>\n",
       "    </tr>\n",
       "  </thead>\n",
       "  <tbody>\n",
       "    <tr>\n",
       "      <th>0</th>\n",
       "      <td>FlyBase:FBgn0035904</td>\n",
       "      <td>NaN</td>\n",
       "      <td>RO:0002434</td>\n",
       "      <td>interacts with</td>\n",
       "      <td>http://purl.obolibrary.org/obo/RO_0002434</td>\n",
       "      <td>2018-03-15</td>\n",
       "      <td>To understand how loss of NGLY1 contributes to...</td>\n",
       "      <td>https://www.ncbi.nlm.nih.gov/pubmed/29346549</td>\n",
       "      <td>FlyBase:FBgn0033050</td>\n",
       "    </tr>\n",
       "    <tr>\n",
       "      <th>1</th>\n",
       "      <td>FlyBase:FBgn0051469</td>\n",
       "      <td>NaN</td>\n",
       "      <td>RO:0002434</td>\n",
       "      <td>interacts with</td>\n",
       "      <td>http://purl.obolibrary.org/obo/RO_0002434</td>\n",
       "      <td>2018-03-15</td>\n",
       "      <td>To understand how loss of NGLY1 contributes to...</td>\n",
       "      <td>https://www.ncbi.nlm.nih.gov/pubmed/29346549</td>\n",
       "      <td>FlyBase:FBgn0033050</td>\n",
       "    </tr>\n",
       "    <tr>\n",
       "      <th>2</th>\n",
       "      <td>FlyBase:FBgn0051092</td>\n",
       "      <td>NaN</td>\n",
       "      <td>RO:0002434</td>\n",
       "      <td>interacts with</td>\n",
       "      <td>http://purl.obolibrary.org/obo/RO_0002434</td>\n",
       "      <td>2018-03-15</td>\n",
       "      <td>To understand how loss of NGLY1 contributes to...</td>\n",
       "      <td>https://www.ncbi.nlm.nih.gov/pubmed/29346549</td>\n",
       "      <td>FlyBase:FBgn0033050</td>\n",
       "    </tr>\n",
       "    <tr>\n",
       "      <th>3</th>\n",
       "      <td>FlyBase:FBgn0037225</td>\n",
       "      <td>NaN</td>\n",
       "      <td>RO:0002434</td>\n",
       "      <td>interacts with</td>\n",
       "      <td>http://purl.obolibrary.org/obo/RO_0002434</td>\n",
       "      <td>2018-03-15</td>\n",
       "      <td>To understand how loss of NGLY1 contributes to...</td>\n",
       "      <td>https://www.ncbi.nlm.nih.gov/pubmed/29346549</td>\n",
       "      <td>FlyBase:FBgn0033050</td>\n",
       "    </tr>\n",
       "    <tr>\n",
       "      <th>4</th>\n",
       "      <td>FlyBase:FBgn0039711</td>\n",
       "      <td>NaN</td>\n",
       "      <td>RO:0002434</td>\n",
       "      <td>interacts with</td>\n",
       "      <td>http://purl.obolibrary.org/obo/RO_0002434</td>\n",
       "      <td>2018-03-15</td>\n",
       "      <td>To understand how loss of NGLY1 contributes to...</td>\n",
       "      <td>https://www.ncbi.nlm.nih.gov/pubmed/29346549</td>\n",
       "      <td>FlyBase:FBgn0033050</td>\n",
       "    </tr>\n",
       "  </tbody>\n",
       "</table>\n",
       "</div>"
      ],
      "text/plain": [
       "             object_id  property_description property_id  property_label  \\\n",
       "0  FlyBase:FBgn0035904                   NaN  RO:0002434  interacts with   \n",
       "1  FlyBase:FBgn0051469                   NaN  RO:0002434  interacts with   \n",
       "2  FlyBase:FBgn0051092                   NaN  RO:0002434  interacts with   \n",
       "3  FlyBase:FBgn0037225                   NaN  RO:0002434  interacts with   \n",
       "4  FlyBase:FBgn0039711                   NaN  RO:0002434  interacts with   \n",
       "\n",
       "                                property_uri reference_date  \\\n",
       "0  http://purl.obolibrary.org/obo/RO_0002434     2018-03-15   \n",
       "1  http://purl.obolibrary.org/obo/RO_0002434     2018-03-15   \n",
       "2  http://purl.obolibrary.org/obo/RO_0002434     2018-03-15   \n",
       "3  http://purl.obolibrary.org/obo/RO_0002434     2018-03-15   \n",
       "4  http://purl.obolibrary.org/obo/RO_0002434     2018-03-15   \n",
       "\n",
       "                           reference_supporting_text  \\\n",
       "0  To understand how loss of NGLY1 contributes to...   \n",
       "1  To understand how loss of NGLY1 contributes to...   \n",
       "2  To understand how loss of NGLY1 contributes to...   \n",
       "3  To understand how loss of NGLY1 contributes to...   \n",
       "4  To understand how loss of NGLY1 contributes to...   \n",
       "\n",
       "                                  reference_uri           subject_id  \n",
       "0  https://www.ncbi.nlm.nih.gov/pubmed/29346549  FlyBase:FBgn0033050  \n",
       "1  https://www.ncbi.nlm.nih.gov/pubmed/29346549  FlyBase:FBgn0033050  \n",
       "2  https://www.ncbi.nlm.nih.gov/pubmed/29346549  FlyBase:FBgn0033050  \n",
       "3  https://www.ncbi.nlm.nih.gov/pubmed/29346549  FlyBase:FBgn0033050  \n",
       "4  https://www.ncbi.nlm.nih.gov/pubmed/29346549  FlyBase:FBgn0033050  "
      ]
     },
     "execution_count": 48,
     "metadata": {},
     "output_type": "execute_result"
    }
   ],
   "source": [
    "import pandas as pd\n",
    "df = pd.read_csv('./graph/rna_edges.csv')\n",
    "df.head(5)"
   ]
  },
  {
   "cell_type": "code",
   "execution_count": 49,
   "metadata": {},
   "outputs": [
    {
     "data": {
      "text/html": [
       "<div>\n",
       "<style scoped>\n",
       "    .dataframe tbody tr th:only-of-type {\n",
       "        vertical-align: middle;\n",
       "    }\n",
       "\n",
       "    .dataframe tbody tr th {\n",
       "        vertical-align: top;\n",
       "    }\n",
       "\n",
       "    .dataframe thead th {\n",
       "        text-align: right;\n",
       "    }\n",
       "</style>\n",
       "<table border=\"1\" class=\"dataframe\">\n",
       "  <thead>\n",
       "    <tr style=\"text-align: right;\">\n",
       "      <th></th>\n",
       "      <th>description</th>\n",
       "      <th>id</th>\n",
       "      <th>name</th>\n",
       "      <th>preflabel</th>\n",
       "      <th>semantic_groups</th>\n",
       "      <th>synonyms</th>\n",
       "    </tr>\n",
       "  </thead>\n",
       "  <tbody>\n",
       "    <tr>\n",
       "      <th>0</th>\n",
       "      <td>NaN</td>\n",
       "      <td>FlyBase:FBgn0033050</td>\n",
       "      <td>PNGase-like</td>\n",
       "      <td>Pngl</td>\n",
       "      <td>GENE</td>\n",
       "      <td>CG7865|Dmel\\CG7865|PNGase|png1</td>\n",
       "    </tr>\n",
       "    <tr>\n",
       "      <th>1</th>\n",
       "      <td>NaN</td>\n",
       "      <td>FlyBase:FBgn0035904</td>\n",
       "      <td>glutathione S-transferase omega 3</td>\n",
       "      <td>GstO3</td>\n",
       "      <td>GENE</td>\n",
       "      <td>GSTo</td>\n",
       "    </tr>\n",
       "    <tr>\n",
       "      <th>2</th>\n",
       "      <td>NaN</td>\n",
       "      <td>FlyBase:FBgn0051469</td>\n",
       "      <td>uncharacterized protein</td>\n",
       "      <td>CG31469</td>\n",
       "      <td>GENE</td>\n",
       "      <td>CG9599|Dmel\\CG31469</td>\n",
       "    </tr>\n",
       "    <tr>\n",
       "      <th>3</th>\n",
       "      <td>NaN</td>\n",
       "      <td>FlyBase:FBgn0051092</td>\n",
       "      <td>Cupredoxin superfamily protein</td>\n",
       "      <td>LpR2</td>\n",
       "      <td>GENE</td>\n",
       "      <td>F23N20.3|F23N20_3|Low Phosphate Root2</td>\n",
       "    </tr>\n",
       "    <tr>\n",
       "      <th>4</th>\n",
       "      <td>NaN</td>\n",
       "      <td>FlyBase:FBgn0037225</td>\n",
       "      <td>TweedleG</td>\n",
       "      <td>TwdlG</td>\n",
       "      <td>GENE</td>\n",
       "      <td>CG14643|Dmel\\CG14643</td>\n",
       "    </tr>\n",
       "  </tbody>\n",
       "</table>\n",
       "</div>"
      ],
      "text/plain": [
       "  description                   id                               name  \\\n",
       "0         NaN  FlyBase:FBgn0033050                        PNGase-like   \n",
       "1         NaN  FlyBase:FBgn0035904  glutathione S-transferase omega 3   \n",
       "2         NaN  FlyBase:FBgn0051469            uncharacterized protein   \n",
       "3         NaN  FlyBase:FBgn0051092     Cupredoxin superfamily protein   \n",
       "4         NaN  FlyBase:FBgn0037225                           TweedleG   \n",
       "\n",
       "  preflabel semantic_groups                               synonyms  \n",
       "0      Pngl            GENE         CG7865|Dmel\\CG7865|PNGase|png1  \n",
       "1     GstO3            GENE                                   GSTo  \n",
       "2   CG31469            GENE                    CG9599|Dmel\\CG31469  \n",
       "3      LpR2            GENE  F23N20.3|F23N20_3|Low Phosphate Root2  \n",
       "4     TwdlG            GENE                   CG14643|Dmel\\CG14643  "
      ]
     },
     "execution_count": 49,
     "metadata": {},
     "output_type": "execute_result"
    }
   ],
   "source": [
    "import pandas as pd\n",
    "df = pd.read_csv('./graph/rna_nodes.csv')\n",
    "df.head(5)"
   ]
  },
  {
   "cell_type": "code",
   "execution_count": null,
   "metadata": {},
   "outputs": [],
   "source": []
  }
 ],
 "metadata": {
  "kernelspec": {
   "display_name": "Python 3",
   "language": "python",
   "name": "python3"
  },
  "language_info": {
   "codemirror_mode": {
    "name": "ipython",
    "version": 3
   },
   "file_extension": ".py",
   "mimetype": "text/x-python",
   "name": "python",
   "nbconvert_exporter": "python",
   "pygments_lexer": "ipython3",
   "version": "3.6.4"
  }
 },
 "nbformat": 4,
 "nbformat_minor": 2
}
