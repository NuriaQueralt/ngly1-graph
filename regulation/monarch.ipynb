{
 "cells": [
  {
   "cell_type": "code",
   "execution_count": null,
   "metadata": {},
   "outputs": [],
   "source": [
    "# @author: Núria Queralt Rosinach\n",
    "# @date: 04-30-2018\n",
    "# @version: v3"
   ]
  },
  {
   "cell_type": "markdown",
   "metadata": {},
   "source": [
    "## Prepare Monarch edges to build the graph\n",
    "* build statements file\n",
    "* build concepts file"
   ]
  },
  {
   "cell_type": "code",
   "execution_count": null,
   "metadata": {},
   "outputs": [],
   "source": [
    "import os, sys\n",
    "import pandas as pd\n",
    "import datetime\n",
    "sys.path.insert(0, '/home/nuria/soft/utils3/lib')\n",
    "import abravo_lib as utils"
   ]
  },
  {
   "cell_type": "code",
   "execution_count": null,
   "metadata": {},
   "outputs": [],
   "source": [
    "# timestamp\n",
    "today = datetime.date.today()\n",
    "\n",
    "# path to data\n",
    "path = os.getcwd() + '/graph'\n",
    "if not os.path.isdir(path): os.makedirs(path)\n",
    "    \n",
    "# read data\n",
    "sys.path.insert(0, './graph/')"
   ]
  },
  {
   "cell_type": "markdown",
   "metadata": {},
   "source": [
    "## Input: Monarch statements"
   ]
  },
  {
   "cell_type": "code",
   "execution_count": null,
   "metadata": {
    "scrolled": true
   },
   "outputs": [],
   "source": [
    "# open new_connections file\n",
    "edges_df = pd.read_table('./graph/monarch_connections_regulation_graph.tsv')\n",
    "edges_df.head(2)"
   ]
  },
  {
   "cell_type": "markdown",
   "metadata": {},
   "source": [
    "## Generate statement file"
   ]
  },
  {
   "cell_type": "markdown",
   "metadata": {
    "collapsed": true
   },
   "source": [
    "##### NEO4J file features\n",
    "- Include 'NA'\n",
    "- one row= one association with all references collapsed in a string as a list\n",
    "- References as URIs:\n",
    "    - multi-term pubmed url; pipelined from other urls\n",
    "    - PubMed: base_uri/{pmid,pmid,pmid,no_pmid}; base_uri: pubmed.nih.gov/\n",
    "    - Others: expand context to the correct url for not pmids, e.g. react:, ... (first as a list of id)"
   ]
  },
  {
   "cell_type": "code",
   "execution_count": null,
   "metadata": {},
   "outputs": [],
   "source": [
    "# add attribute/columns: 'rel_term_id', 'rel_term_label', rel_term_iri to file\n",
    "# authoritative url\n",
    "uriPrefixes_dct = {\n",
    "    'pmid': 'https://www.ncbi.nlm.nih.gov/pubmed/', #'http://identifiers.org/pubmed/', \n",
    "    'react': 'http://reactome.org/content/detail/', #'http://identifiers.org/reactome/', \n",
    "    'zfin': 'http://zfin.org/',\n",
    "    'go_ref': 'http://purl.obolibrary.org/obo/go/references/', #'http://identifiers.org/go.ref/GO_REF:', \n",
    "    'mgi': 'http://www.informatics.jax.org/accession/MGI:', #'http://identifiers.org/mgi/MGI:'\n",
    "    'flybase': 'http://flybase.org/reports/',\n",
    "    'wormbase': 'http://www.wormbase.org/resources/paper/',\n",
    "    'isbn-13': 'ISBN-13:',\n",
    "    'hpo': 'http://compbio.charite.de/hpoweb/showterm?id=HP:',\n",
    "    'isbn-10': 'ISBN-10:'\n",
    "}\n",
    "# source/database\n",
    "dbPrefixes_dct = {\n",
    "    'na': 'NA',\n",
    "    'mgi': 'http://www.informatics.jax.org/',\n",
    "    'fb': 'http://flybase.org/',\n",
    "    'rgd': 'http://rgd.mcw.edu/', \n",
    "    'zfin': 'http://zfin.org/',\n",
    "    'sgd': 'https://www.yeastgenome.org/'\n",
    "}\n",
    "ref_text = 'NA'\n",
    "ref_date = 'NA' \n",
    "with open('./graph/monarch_edges_v{}.tsv'.format(today), 'w') as f:\n",
    "    f.write(\n",
    "        'subject_id\\tproperty_id\\tobject_id\\treference_uri\\treference_supporting_text\\treference_date\\tproperty_label\\tproperty_description\\tproperty_uri\\n'\n",
    "           )\n",
    "    header = 1\n",
    "    for row in open('./graph/monarch_connections_regulation_graph.tsv').readlines():\n",
    "        if header:\n",
    "            header = 0\n",
    "            continue\n",
    "        edge = row.strip('\\n').split('\\t')\n",
    "        ref_uri_l = list()\n",
    "        # expand to uri or NA\n",
    "        pmid_l = list()\n",
    "        for ref in edge[-1].strip().split('|'):\n",
    "            # NA or database\n",
    "            if ':' not in ref:\n",
    "                ref_uri = dbPrefixes_dct[ref.lower()]\n",
    "                ref_uri_l.append(ref_uri)\n",
    "            # publications\n",
    "            else:\n",
    "                pref, uriId = ref.split(':')\n",
    "                # separate pmid from non pmid\n",
    "                if ref.startswith('PMID'):\n",
    "                    pmid_l.append(uriId)\n",
    "                else:\n",
    "                    ref_uri = uriPrefixes_dct[pref.lower()] + uriId\n",
    "                    ref_uri_l.append(ref_uri)\n",
    "        # create multi-term pubmed url\n",
    "        if len(pmid_l):\n",
    "            pmid_s = ','.join(pmid_l)\n",
    "            ref_uri = uriPrefixes_dct['pmid'] + pmid_s\n",
    "            ref_uri_l.append(ref_uri)\n",
    "        ref_uri_list = '|'.join(ref_uri_l)\n",
    "        # write the associations + list of references as uri or NA\n",
    "        sub_id = 'NA' if edge[0] is None else edge[0]\n",
    "        rel_id = 'NA' if edge[2] is None else edge[2] \n",
    "        obj_id = 'NA' if edge[4] is None else edge[4]\n",
    "        rel_label = 'NA' if edge[3] is None else edge[3]\n",
    "        rel_def = 'NA' #if edge[5] is None else edge[5] \n",
    "        if ':' in rel_id:\n",
    "            rel_iri = 'http://purl.obolibrary.org/obo/' + rel_id.replace(':', '_')\n",
    "        else:\n",
    "            rel_iri = rel_id\n",
    "        f.write('{}\\t{}\\t{}\\t{}\\t{}\\t{}\\t{}\\t{}\\t{}\\n'.format(sub_id, rel_id, obj_id, ref_uri_list, ref_text, ref_date, rel_label, rel_def, rel_iri))\n",
    "        #print(sub_id, rel_id, obj_id, ref_uri_list, ref_text, ref_date, rel_label, rel_def, rel_iri)        "
   ]
  },
  {
   "cell_type": "markdown",
   "metadata": {
    "collapsed": true
   },
   "source": [
    "## Generate concept file"
   ]
  },
  {
   "cell_type": "code",
   "execution_count": null,
   "metadata": {},
   "outputs": [],
   "source": [
    "# semantic groups dictionary\n",
    "# collide concepts\n",
    "concept_dct = dict()\n",
    "header = 1\n",
    "for row in open('./get-monarch-connections/monarch_connections.tsv').readlines():\n",
    "    if header:\n",
    "        header = 0\n",
    "        continue\n",
    "    fields = row.strip('\\n').split('\\t')\n",
    "    sid = fields[0]\n",
    "    oid = fields[4]\n",
    "    concept_dct[sid] = {}\n",
    "    concept_dct[oid] = {}\n",
    "print(len(concept_dct.keys()))\n",
    "\n",
    "# list of concept prefixes\n",
    "conceptPrefix_dct = dict()\n",
    "for concept in concept_dct:\n",
    "    conceptPrefix_dct[concept.split(':')[0]] = 1\n",
    "print(conceptPrefix_dct.keys())\n",
    "    \n",
    "# build conceptPrefix2semantic dict\n",
    "conceptPrefix2semantic_dct = dict()\n",
    "for prefix in conceptPrefix_dct:\n",
    "    prefix = prefix.lower()\n",
    "    if 'variant' in prefix:\n",
    "        conceptPrefix2semantic_dct[prefix] = 'VARI'\n",
    "    elif 'phenotype' in prefix or 'mondo' in prefix or 'omim' in prefix or 'doid' in prefix or 'mesh' in prefix or 'hp' in prefix or 'mp' in prefix or 'fbcv' in prefix or 'fbbt' in prefix or 'zp' in prefix or 'apo' in prefix or 'trait' in prefix:\n",
    "        conceptPrefix2semantic_dct[prefix] = 'DISO'\n",
    "    elif 'gene' in prefix or 'hgnc' in prefix or 'ensembl' in prefix or 'mgi' in prefix or 'flybase' in prefix or 'wormbase' in prefix or 'xenbase' in prefix or 'zfin' in prefix or 'rgd' in prefix or 'sgd' in prefix:\n",
    "        conceptPrefix2semantic_dct[prefix] = 'GENE'\n",
    "    elif 'react' in prefix or 'kegg-path' in prefix or 'go' in prefix:\n",
    "        conceptPrefix2semantic_dct[prefix] = 'PHYS'\n",
    "    elif 'uberon' in prefix or 'cl' in prefix:\n",
    "        conceptPrefix2semantic_dct[prefix] = 'ANAT'\n",
    "    elif 'coriell' in prefix or 'monarch' in prefix or 'mmrrc' in prefix or '' in prefix:\n",
    "        conceptPrefix2semantic_dct[prefix] = 'GENO'\n",
    "    else:\n",
    "        conceptPrefix2semantic_dct[prefix] = 'CONC'"
   ]
  },
  {
   "cell_type": "code",
   "execution_count": null,
   "metadata": {},
   "outputs": [],
   "source": [
    "# concept attribute dictionaries: id integration of sub and obj IDs in a common data structure\n",
    "concept_dct = dict()\n",
    "header = 1\n",
    "for row in open('./get-monarch-connections/monarch_connections.tsv').readlines():\n",
    "    if header:\n",
    "        header = 0\n",
    "        continue\n",
    "    fields = row.strip('\\n').split('\\t')\n",
    "    # id: integration of sub and obj IDs in a unique data structure\n",
    "    sid = fields[0]\n",
    "    slab = fields[1]\n",
    "    oid = fields[4]\n",
    "    olab = fields[5]\n",
    "    # build the concept data structure\n",
    "    concept_dct[sid] = { 'preflabel': slab, 'semantic_groups': conceptPrefix2semantic_dct.get(sid.split(':')[0].lower(), 'CONC'), 'synonyms': 'NA', 'definition': 'NA' }\n",
    "    concept_dct[oid] = { 'preflabel': olab, 'semantic_groups': conceptPrefix2semantic_dct.get(oid.split(':')[0].lower(), 'CONC'),'synonyms': 'NA', 'definition': 'NA' }\n",
    "\n",
    "# check\n",
    "header = 1\n",
    "for row in open('./get-monarch-connections/monarch_connections.tsv').readlines():\n",
    "    if header:\n",
    "        header = 0\n",
    "        continue\n",
    "    fields = row.strip('\\n').split('\\t')\n",
    "    sid = fields[0]\n",
    "    slab = fields[1]\n",
    "    oid = fields[4]\n",
    "    olab = fields[5]\n",
    "    #print(sid,slab,concept_dct.get(fields[0]).get('semantic_groups'))\n",
    "    #print(oid,olab,concept_dct.get(fields[4]).get('semantic_groups'))"
   ]
  },
  {
   "cell_type": "code",
   "execution_count": null,
   "metadata": {},
   "outputs": [],
   "source": [
    "with open('./add-connections-to-net/monarch_nodes_v{}.tsv'.format(today), 'w') as f:\n",
    "    f.write(\n",
    "        'id\\tsemantic_groups\\tpreflabel\\tsynonyms\\tdescription\\n'\n",
    "           )\n",
    "    for concept in concept_dct:\n",
    "        # semantic_groups\n",
    "        semantic = concept_dct.get(concept).get('semantic_groups')\n",
    "        # preflabel\n",
    "        preflabel = concept_dct.get(concept).get('preflabel') \n",
    "        # synonyms\n",
    "        synonyms = concept_dct.get(concept).get('synonyms') \n",
    "        # definition\n",
    "        definition = concept_dct.get(concept).get('definition')\n",
    "        f.write('{}\\t{}\\t{}\\t{}\\t{}\\n'.format(concept,semantic,preflabel,synonyms,definition))\n",
    "        #print(concept,semantic,preflabel,synonyms,definition)"
   ]
  },
  {
   "cell_type": "code",
   "execution_count": null,
   "metadata": {},
   "outputs": [],
   "source": []
  },
  {
   "cell_type": "code",
   "execution_count": null,
   "metadata": {},
   "outputs": [],
   "source": []
  },
  {
   "cell_type": "code",
   "execution_count": null,
   "metadata": {},
   "outputs": [],
   "source": []
  }
 ],
 "metadata": {
  "kernelspec": {
   "display_name": "Python 3",
   "language": "python",
   "name": "python3"
  },
  "language_info": {
   "codemirror_mode": {
    "name": "ipython",
    "version": 3
   },
   "file_extension": ".py",
   "mimetype": "text/x-python",
   "name": "python",
   "nbconvert_exporter": "python",
   "pygments_lexer": "ipython3",
   "version": "3.6.4"
  }
 },
 "nbformat": 4,
 "nbformat_minor": 2
}
