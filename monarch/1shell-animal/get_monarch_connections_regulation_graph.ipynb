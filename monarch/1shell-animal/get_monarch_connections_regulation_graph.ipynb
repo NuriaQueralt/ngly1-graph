{
 "cells": [
  {
   "cell_type": "code",
   "execution_count": 1,
   "metadata": {},
   "outputs": [],
   "source": [
    "# @author: Núria Queralt Rosinach\n",
    "# @date: 04-26-2018\n",
    "# @version: v3"
   ]
  },
  {
   "cell_type": "markdown",
   "metadata": {},
   "source": [
    "# Notebook goal\n",
    "\n",
    "This notebook is intended to extract connectivity from Monarch for the NGLY1 graph with added regulatory edges (v3).\n",
    "- seed nodes: NGLY1 network nodes (v3)\n",
    "- output: /get-monarch-connections/monarch_connections_regulation_graph.tsv "
   ]
  },
  {
   "cell_type": "code",
   "execution_count": 2,
   "metadata": {
    "scrolled": false
   },
   "outputs": [],
   "source": [
    "import os, sys\n",
    "import requests\n",
    "import json\n",
    "import pandas as pd"
   ]
  },
  {
   "cell_type": "code",
   "execution_count": 3,
   "metadata": {
    "scrolled": false
   },
   "outputs": [],
   "source": [
    "# path to data\n",
    "path = os.getcwd() + '/get-monarch-connections'\n",
    "if not os.path.isdir(path): os.makedirs(path)\n",
    "\n",
    "# read data\n",
    "sys.path.insert(0, './get-monarch-connections/')"
   ]
  },
  {
   "cell_type": "markdown",
   "metadata": {},
   "source": [
    "## Functions"
   ]
  },
  {
   "cell_type": "code",
   "execution_count": 4,
   "metadata": {
    "scrolled": false
   },
   "outputs": [],
   "source": [
    "# Get associations\n",
    "\n",
    "# function get monarch associations\n",
    "def hitMonarchApi(node = 'HGNC:17646', rows = 2000):\n",
    "    '''This function performs api calls to Monarch for in and out edges. \n",
    "        It returns associated nodes'''\n",
    "    \n",
    "    # api address\n",
    "    biolink = 'https://api.monarchinitiative.org/api/association'\n",
    "    \n",
    "    # parameters\n",
    "    parameters = {'fl_excludes_evidence': False, 'rows': rows}\n",
    "    \n",
    "    # out edges: from/\n",
    "    r_out = requests.get('{}/from/{}'.format(biolink,node),params=parameters)\n",
    "\n",
    "    # in edges: to/\n",
    "    r_in = requests.get('{}/to/{}'.format(biolink,node),params=parameters)\n",
    "\n",
    "    return r_out, r_in \n",
    "\n",
    "# prepare monarch api response as a tuple but with the intemediate step to keep all node information\n",
    "def getEdgesObjects(r_out, r_in):\n",
    "    '''This function prepare the api object response from monarch to a tuple. \n",
    "       It returns three lists, one for subjects, relations, and objects, \n",
    "       where each list is a list of dictionaries where each dict is a node.\n",
    "    '''\n",
    "    \n",
    "    # variables\n",
    "    sub_l = list()\n",
    "    rel_l = list()\n",
    "    obj_l = list()\n",
    "    ref_l = list()\n",
    "\n",
    "    # compose list of dictionaries\n",
    "    for associations in [r_out.json()['associations'], r_in.json()['associations']]:\n",
    "        for association in associations:\n",
    "            pub_l = list()\n",
    "            sub_l.append(association['subject'])\n",
    "            rel_l.append(association['relation'])\n",
    "            obj_l.append(association['object'])  \n",
    "            # add references to each association as a list of strings\n",
    "            if association['publications']:\n",
    "                for publication in association['publications']:\n",
    "                    pub_l.append(publication['id'])\n",
    "            else:\n",
    "                pub_l.append('NA')\n",
    "            ref_l.append('|'.join(pub_l))\n",
    "    \n",
    "    return sub_l, rel_l, obj_l, ref_l\n",
    "\n",
    "def getEdges(sub_l, rel_l, obj_l, ref_l, attribute = 'id'):\n",
    "    '''\n",
    "       Function that builds triples with an attribute for each node. it returns a tuple with the edges\n",
    "    '''\n",
    "    edges = set()\n",
    "    # compose tuple\n",
    "    for i in range(len(sub_l)):\n",
    "        sub = sub_l[i][attribute]\n",
    "        rel = rel_l[i][attribute]\n",
    "        obj = obj_l[i][attribute]\n",
    "        ref = ref_l[i]\n",
    "        edges.add((sub, rel, obj, ref))\n",
    "        \n",
    "    return edges\n",
    "\n",
    "\n",
    "# add triple\n",
    "def keepEdges(keep, new):\n",
    "    '''This function adds triples in a tuple'''\n",
    "    \n",
    "    for edge in new:\n",
    "        keep.add(edge)\n",
    "        \n",
    "    return keep\n",
    "\n",
    "\n",
    "# Keep 1st layer of neighbour nodes\n",
    "def keepNodes(keep,edges,seed):\n",
    "    '''\n",
    "       Function that keeps nodes in the edges\n",
    "    '''\n",
    "    \n",
    "    for (sub, rel, obj, ref) in edges:\n",
    "        #if ':.' in (sub or obj):\n",
    "        #    continue\n",
    "        #if 'Coriell' in (sub or obj):\n",
    "        #    continue     \n",
    "        #if 'MMRRC' in (sub or obj):\n",
    "        #    continue   \n",
    "        #if 'MONARCH' in (sub or obj):\n",
    "        #    continue   \n",
    "        if 'PMID' in sub or 'PMID' in obj:\n",
    "            continue\n",
    "        if rel == None:\n",
    "            rel = 'None'\n",
    "        if 'dc:source' in rel:\n",
    "            continue\n",
    "        if 'IAO:0000136' in rel: # is about\n",
    "            continue\n",
    "        if 'IAO:0000142' in rel: # mentions\n",
    "            continue\n",
    "        if sub not in seed:\n",
    "            keep.add(sub)\n",
    "        if obj not in seed:\n",
    "            keep.add(obj)\n",
    "            \n",
    "    return keep\n",
    "\n",
    "\n",
    "# gets the first layer of neighbours and relations\n",
    "def getNeighbours(seedNodes):\n",
    "    '''\n",
    "       Function that gets the first layer of neighbours and relations\n",
    "    '''\n",
    "    \n",
    "    keep_nodes = set()\n",
    "    keep_edges = set()\n",
    "    for node in seedNodes:\n",
    "        try:\n",
    "            r_out, r_in = hitMonarchApi(node)\n",
    "            sub_l, rel_l, obj_l, ref_l = getEdgesObjects(r_out, r_in)\n",
    "            edges = getEdges(sub_l, rel_l, obj_l, ref_l, 'id')\n",
    "            keep_edges = keepEdges(keep_edges,edges)\n",
    "            keep_nodes = keepNodes(keep_nodes,edges,seedNodes)    \n",
    "        except json.decoder.JSONDecodeError:\n",
    "            pass\n",
    "        except:\n",
    "            print('error: {}'.format(sys.exc_info()[0]))\n",
    "            print(node)\n",
    "                    \n",
    "    return keep_nodes,keep_edges\n",
    "\n",
    "\n",
    "# Keep orthologs/phenotypes in the layer of neighbour nodes\n",
    "def keepNodeType(edges, seed, nodeType = 'ortho'):\n",
    "    '''\n",
    "       Function that keeps specific node types in the edges.\n",
    "       Introduce arg according node type:\n",
    "           nodeType = 'ortho' to keep orthologs \n",
    "           nodeType = 'pheno' to keep phenotypes or diseases\n",
    "    '''\n",
    "    \n",
    "    propertyList = ['RO:HOM0000017', 'RO:HOM0000020']\n",
    "    if nodeType == 'pheno':\n",
    "        propertyList = ['RO:0002200', 'RO:0002607', 'RO:0002326', 'GENO:0000840']\n",
    "        \n",
    "    keep = set()\n",
    "    for (sub, rel, obj, ref) in edges:\n",
    "        if rel == None:\n",
    "            continue\n",
    "        if rel in propertyList:\n",
    "            if sub not in seed:\n",
    "                keep.add(sub)\n",
    "            if obj not in seed:\n",
    "                keep.add(obj)\n",
    "            \n",
    "    return keep\n",
    "\n",
    "\n",
    "# Keep edges where nodes are in the network\n",
    "\n",
    "# function to evaluate the intersection with network nodes\n",
    "def filterEdges(nodes, edges):\n",
    "    '''\n",
    "       Filters all edges down to those which have both nodes in the nodes set\n",
    "    '''\n",
    "    nodes = set(nodes)\n",
    "    keep = set()\n",
    "    for (start, pred, stop, ref) in edges:\n",
    "        if {start, stop} <= nodes:\n",
    "            keep.add((start, pred, stop, ref))\n",
    "            \n",
    "    return keep\n",
    "        \n",
    "\n",
    "# add monarch annotation\n",
    "def addAttributes(sub_l, rel_l, obj_l, edges):\n",
    "    '''\n",
    "       This functions adds attributes to each resource in the triple\n",
    "    '''\n",
    "    \n",
    "    metaedges = set()\n",
    "    for (sub_id, rel_id, obj_id, refs) in edges:\n",
    "        for i in range(len(sub_l)):\n",
    "            if sub_l[i]['id'] == sub_id and rel_l[i]['id'] == rel_id and obj_l[i]['id'] == obj_id:\n",
    "                metaedges.add((sub_l[i]['id'],\n",
    "                      sub_l[i]['label'],\n",
    "                      rel_l[i]['id'],\n",
    "                      rel_l[i]['label'],\n",
    "                      obj_l[i]['id'],\n",
    "                      obj_l[i]['label'],\n",
    "                      refs)\n",
    "                )\n",
    "                break\n",
    "    return metaedges\n",
    "\n",
    "\n",
    "def printFile(path,fileName,data):\n",
    "    '''Function to save output to file.'''\n",
    "    \n",
    "    with open('{}/{}.tsv'.format(path,fileName), 'w') as f:\n",
    "        f.write('subject_id\\tsubject_label\\trelation_id\\trelation_label\\tobject_id\\tobject_label\\treference_id_list\\n')\n",
    "        for edge in data:\n",
    "            edge = ['None' if t is None else t for t in edge]\n",
    "            f.write('{}\\n'.format('\\t'.join(edge)))\n",
    "    \n",
    "    return print(\"File '{}/{}.tsv' saved.\".format(path,fileName))"
   ]
  },
  {
   "cell_type": "markdown",
   "metadata": {},
   "source": [
    "## Seed nodes"
   ]
  },
  {
   "cell_type": "code",
   "execution_count": 6,
   "metadata": {
    "scrolled": false
   },
   "outputs": [
    {
     "name": "stdout",
     "output_type": "stream",
     "text": [
      "\n",
      "Reading network...\n",
      "9364\n"
     ]
    }
   ],
   "source": [
    "# get network nodes\n",
    "print('\\nReading network...')\n",
    "import pandas as pd\n",
    "path = \"/home/nuria/workspace/ngly1-graph/regulation\" + \"/graph\"\n",
    "nodes_df = pd.read_csv('{}/graph_pre_monarch_connectivity_nodes_v2019-01-17.csv'.format(path))\n",
    "network = set(list(nodes_df.id))\n",
    "print(len(network))"
   ]
  },
  {
   "cell_type": "markdown",
   "metadata": {},
   "source": [
    "## Get connections"
   ]
  },
  {
   "cell_type": "code",
   "execution_count": null,
   "metadata": {
    "scrolled": false
   },
   "outputs": [
    {
     "name": "stdout",
     "output_type": "stream",
     "text": [
      "error: <class 'KeyboardInterrupt'>\n",
      "HGNC:9768\n"
     ]
    }
   ],
   "source": [
    "keep = set()\n",
    "for node in network:\n",
    "    try:\n",
    "        r_out, r_in = hitMonarchApi(node, 1000)\n",
    "        sub_l, rel_l, obj_l, ref_l = getEdgesObjects(r_out, r_in)\n",
    "        edges = getEdges(sub_l, rel_l, obj_l, ref_l, 'id')\n",
    "        filteredEdges = filterEdges(network, edges)\n",
    "        metaFilteredEdges = addAttributes(sub_l, rel_l, obj_l, filteredEdges)\n",
    "        keep = keepEdges(keep, metaFilteredEdges)\n",
    "    except json.decoder.JSONDecodeError:\n",
    "            pass\n",
    "    except:\n",
    "        print('error: {}'.format(sys.exc_info()[0]))\n",
    "        print(node)\n",
    "\n",
    "printFile(path,'monarch_connections_regulation_graph', keep)"
   ]
  },
  {
   "cell_type": "code",
   "execution_count": 7,
   "metadata": {},
   "outputs": [],
   "source": []
  },
  {
   "cell_type": "code",
   "execution_count": 7,
   "metadata": {},
   "outputs": [],
   "source": []
  },
  {
   "cell_type": "code",
   "execution_count": 7,
   "metadata": {},
   "outputs": [],
   "source": []
  },
  {
   "cell_type": "code",
   "execution_count": 7,
   "metadata": {},
   "outputs": [],
   "source": []
  },
  {
   "cell_type": "code",
   "execution_count": 7,
   "metadata": {},
   "outputs": [],
   "source": []
  }
 ],
 "metadata": {
  "kernelspec": {
   "display_name": "Python 3",
   "language": "python",
   "name": "python3"
  },
  "language_info": {
   "codemirror_mode": {
    "name": "ipython",
    "version": 3
   },
   "file_extension": ".py",
   "mimetype": "text/x-python",
   "name": "python",
   "nbconvert_exporter": "python",
   "pygments_lexer": "ipython3",
   "version": "3.6.4"
  }
 },
 "nbformat": 4,
 "nbformat_minor": 2
}
